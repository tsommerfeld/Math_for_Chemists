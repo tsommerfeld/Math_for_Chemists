{
 "cells": [
  {
   "cell_type": "markdown",
   "metadata": {},
   "source": [
    "## Optimizing the energy of a linear Ar-Ar-Ar cluster\n",
    "\n",
    "We model the Ar-Ar interaction with a Lennard-Jones potential: $V(r) = 4 \\epsilon \\left(  \\left(\\frac{\\sigma}{r}\\right)^{12} -  \\left(\\frac{\\sigma}{r}\\right)^6 \\right)$, where $\\epsilon$ is the bond-formation energy and $\\sigma$ is related to the bond distance.\n",
    "\n",
    "For numeric work in SI units:\n",
    "\n",
    "* $\\epsilon = 1.65 \\cdot 10^{-21}$J\n",
    "* $\\sigma = 3.4 \\cdot 10^{-10}$m"
   ]
  },
  {
   "cell_type": "code",
   "execution_count": 16,
   "metadata": {},
   "outputs": [],
   "source": [
    "import numpy as np\n",
    "#import pandas as pd\n",
    "from scipy.optimize import minimize_scalar\n",
    "import matplotlib\n",
    "import matplotlib.pyplot as plt\n",
    "matplotlib.use('Qt5Agg')\n",
    "%matplotlib qt5"
   ]
  },
  {
   "cell_type": "markdown",
   "metadata": {},
   "source": [
    "The following function computes the potential energy between two Ar atoms in J. The parameters $\\epsilon$ and $\\sigma$ are provided with default values, so you can play with them, but if they are not given, the defaults will be used."
   ]
  },
  {
   "cell_type": "code",
   "execution_count": 2,
   "metadata": {},
   "outputs": [],
   "source": [
    "def V_LJ(r, epsilon=1.65e-21, sigma=3.4e-10):\n",
    "    sr6 = (sigma/r)**6\n",
    "    V = 4*epsilon*(sr6*sr6 - sr6)\n",
    "    return V"
   ]
  },
  {
   "cell_type": "markdown",
   "metadata": {},
   "source": [
    "Show the Ar-Ar potential in a graph:"
   ]
  },
  {
   "cell_type": "code",
   "execution_count": 14,
   "metadata": {},
   "outputs": [],
   "source": [
    "sigma=3.4e-10\n",
    "epsilon=1.65e-21\n",
    "rmin=0.1*sigma\n",
    "rmax=6*sigma\n",
    "rs=np.linspace(rmin, rmax, num=50)\n",
    "Vs=V_LJ(rs)\n",
    "plt.cla()\n",
    "plt.plot(rs,Vs, 'o-')\n",
    "plt.ylim(-1.5*epsilon,2.5*epsilon)\n",
    "plt.xlabel('$r$ [m]')\n",
    "plt.ylabel('$V$ [J]')\n",
    "plt.show()"
   ]
  },
  {
   "cell_type": "markdown",
   "metadata": {},
   "source": [
    "### Task\n",
    "Modify the box above to show\n",
    "* a better range.\n",
    "* more points.\n",
    "* just a line.\n",
    "* $r$ in units of $\\sigma$ and $V$ in units of $\\epsilon$."
   ]
  },
  {
   "cell_type": "markdown",
   "metadata": {},
   "source": [
    "# Linear dimer: Ar-Ar-Ar\n",
    "\n",
    "The total energy is $V_{12} + V_{23} + V_{13} = V(R) + V(R) + V(2R)$"
   ]
  },
  {
   "cell_type": "code",
   "execution_count": 9,
   "metadata": {},
   "outputs": [],
   "source": [
    "def V_linear_dimer(R):\n",
    "    return 2*V_LJ(R) + V_LJ(2*R)"
   ]
  },
  {
   "cell_type": "markdown",
   "metadata": {},
   "source": [
    "Let's take a look"
   ]
  },
  {
   "cell_type": "code",
   "execution_count": 17,
   "metadata": {},
   "outputs": [],
   "source": [
    "sigma=3.4e-10\n",
    "epsilon=1.65e-21\n",
    "rmin=0.4*sigma\n",
    "rmax=3*sigma\n",
    "rs=np.linspace(rmin, rmax, num=100)\n",
    "Vs=V_linear_dimer(rs)\n",
    "plt.cla()\n",
    "plt.plot(rs/sigma, Vs/epsilon, 'o-')\n",
    "plt.ylim(-2.5, 2.5)\n",
    "plt.xlabel('$r$ [$\\sigma$]')\n",
    "plt.ylabel('$V$ [$\\epsilon$]')\n",
    "plt.show()"
   ]
  },
  {
   "cell_type": "markdown",
   "metadata": {},
   "source": [
    "### Task\n",
    "Using the mouse in the plot, find a good approximation of the minimum energy and the optimal bond distance.\n",
    "\n",
    "We need this information to establish an approximate range of the minimum that is passed to the function `minimize_scalar` as a `bracket`. Without the `bracket`, we cannot be sure to get the minimum we want or that only the legal range ($r>0$) is used, so better be on the safe side. "
   ]
  },
  {
   "cell_type": "code",
   "execution_count": 22,
   "metadata": {},
   "outputs": [
    {
     "data": {
      "text/plain": [
       "     fun: -3.350476803813579e-21\n",
       "    nfev: 10\n",
       "     nit: 6\n",
       " success: True\n",
       "       x: 3.801315583665148e-10"
      ]
     },
     "execution_count": 22,
     "metadata": {},
     "output_type": "execute_result"
    }
   ],
   "source": [
    "res = minimize_scalar(V_linear_dimer, bracket=(sigma, 1.5*sigma))\n",
    "res"
   ]
  },
  {
   "cell_type": "markdown",
   "metadata": {},
   "source": [
    "Here is our answer in J and m. We can use the `res` object to refer to each part of the answer:"
   ]
  },
  {
   "cell_type": "code",
   "execution_count": 24,
   "metadata": {},
   "outputs": [
    {
     "name": "stdout",
     "output_type": "stream",
     "text": [
      "Minimum energy in Joules   -3.350476803813579e-21\n",
      "Minimum energy in epsilons -2.03059200231126\n"
     ]
    }
   ],
   "source": [
    "print('Minimum energy in Joules  ', res.fun)\n",
    "print('Minimum energy in epsilons', res.fun/epsilon)"
   ]
  },
  {
   "cell_type": "markdown",
   "metadata": {},
   "source": [
    "### Task\n",
    "\n",
    "Print the optimal bond length in meters and in units of $\\sigma$."
   ]
  },
  {
   "cell_type": "code",
   "execution_count": null,
   "metadata": {},
   "outputs": [],
   "source": []
  }
 ],
 "metadata": {
  "kernelspec": {
   "display_name": "Python 3 (ipykernel)",
   "language": "python",
   "name": "python3"
  },
  "language_info": {
   "codemirror_mode": {
    "name": "ipython",
    "version": 3
   },
   "file_extension": ".py",
   "mimetype": "text/x-python",
   "name": "python",
   "nbconvert_exporter": "python",
   "pygments_lexer": "ipython3",
   "version": "3.8.12"
  }
 },
 "nbformat": 4,
 "nbformat_minor": 4
}
