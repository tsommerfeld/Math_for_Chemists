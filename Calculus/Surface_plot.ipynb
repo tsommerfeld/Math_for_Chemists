{
 "cells": [
  {
   "cell_type": "markdown",
   "id": "10449e0b-dfe7-4640-bd38-2c36ba479772",
   "metadata": {},
   "source": [
    "# Plot $f(x,y)$"
   ]
  },
  {
   "cell_type": "code",
   "execution_count": 1,
   "id": "7c2f8d19-57b1-4746-aa1f-6520dbdafe83",
   "metadata": {},
   "outputs": [],
   "source": [
    "from mpl_toolkits import mplot3d\n",
    "import numpy as np\n",
    "import matplotlib.pyplot as plt\n",
    "import matplotlib\n",
    "matplotlib.use('Qt5Agg')\n",
    "%matplotlib qt5"
   ]
  },
  {
   "cell_type": "markdown",
   "id": "d3d002e0-7a11-47b6-bd6b-94aff7eb958a",
   "metadata": {},
   "source": [
    "### Define the function"
   ]
  },
  {
   "cell_type": "code",
   "execution_count": 3,
   "id": "6416f8d8-192e-4341-bb72-af071ad2a93e",
   "metadata": {},
   "outputs": [],
   "source": [
    "def f(x,y):\n",
    "    return np.sin(x**2) + np.cos(y**2) "
   ]
  },
  {
   "cell_type": "markdown",
   "id": "a17f7462-6ec2-43bc-8473-7fb9adfd8227",
   "metadata": {},
   "source": [
    "This is actually not straightforward and requires some advanced Python.\n",
    "\n",
    "* The function $z=f(x,y)$ must be computed on an *xy*-grid, in other words, we need an array\n",
    "  with two indices.\n",
    "* We need an array with *x*-values and an array with *y*-values.\n",
    "* For using advanced plotting options the *x* and *y* arrays have to be converted into\n",
    "  so-called `meshgrids`. (There is a Python function called `meshgrid` for doing so.)"
   ]
  },
  {
   "cell_type": "markdown",
   "id": "57bd4944-b635-490b-bb64-d3f88881161e",
   "metadata": {},
   "source": [
    "### Define the *xy*-grid\n",
    "\n",
    "`xs` and `ys` are the simple arrays (one index)\n",
    "`xmg` and `ymg` are the corrsponding meshgrids (two indices)"
   ]
  },
  {
   "cell_type": "code",
   "execution_count": 5,
   "id": "3cdbaa6a-3ef8-4436-ba84-5f97cecd9b90",
   "metadata": {},
   "outputs": [],
   "source": [
    "xmin, xmax = -5, 5\n",
    "ymin, ymax = -3, 7\n",
    "nx, ny = 30, 30\n",
    "xs = np.linspace(xmin, xmax, num=nx)\n",
    "ys = np.linspace(ymin, ymax, num=ny)\n",
    "xmg, ymg = np.meshgrid(xs, ys)"
   ]
  },
  {
   "cell_type": "markdown",
   "id": "4fc0f7e8-34cf-4bd6-9623-c8c9298e8117",
   "metadata": {},
   "source": [
    "### Compute the *z*-values\n",
    "\n",
    "The `meshgrid` data structures enable us to use efficient `numpy` calls. The defined function is called with meshgrids as arguments and returns function values on a corresponding grid.   "
   ]
  },
  {
   "cell_type": "code",
   "execution_count": 7,
   "id": "1003b54a-9abb-49ca-bcc3-607b201c7c30",
   "metadata": {},
   "outputs": [],
   "source": [
    "zs=f(xmg,ymg)"
   ]
  },
  {
   "cell_type": "markdown",
   "id": "17b859d2-d7af-412e-94ae-809e1dbf8868",
   "metadata": {},
   "source": [
    "### Contour plot with colors"
   ]
  },
  {
   "cell_type": "code",
   "execution_count": 8,
   "id": "bc29a0c2-fa38-44c2-ae60-7b0108dffc80",
   "metadata": {},
   "outputs": [
    {
     "data": {
      "text/plain": [
       "<matplotlib.colorbar.Colorbar at 0x7fe8100abe80>"
      ]
     },
     "execution_count": 8,
     "metadata": {},
     "output_type": "execute_result"
    }
   ],
   "source": [
    "plt.cla()\n",
    "plt.contourf(xmg, ymg, zs, 10)\n",
    "plt.colorbar()"
   ]
  },
  {
   "cell_type": "markdown",
   "id": "971dd94a-2248-40a3-bba2-e099ef3fdff8",
   "metadata": {},
   "source": [
    "### Surface plot\n",
    "\n",
    "A nice big 3D plot that can be moved with the mouse (at least on my laptop)."
   ]
  },
  {
   "cell_type": "code",
   "execution_count": 9,
   "id": "eacf164d-7551-48f8-83c6-496a8d9c35dc",
   "metadata": {},
   "outputs": [],
   "source": [
    "fig = plt.figure(figsize =(14, 9))\n",
    "ax = plt.axes(projection ='3d')\n",
    "ax.plot_surface(xmg, ymg, zs)\n",
    "plt.show()"
   ]
  },
  {
   "cell_type": "markdown",
   "id": "77a87183-3acf-42df-a1fa-42a3c7941fa7",
   "metadata": {},
   "source": [
    "## Tasks\n",
    "\n",
    "* Plot the functions from the questions in the handout.\n",
    "* Increase the resolution.\n",
    "* Show just the first quadrant.\n",
    "* For the ambitius: Color-code the surface plot."
   ]
  },
  {
   "cell_type": "code",
   "execution_count": null,
   "id": "2390d20c-8658-4d40-91e6-b4324ae4a7a4",
   "metadata": {},
   "outputs": [],
   "source": []
  }
 ],
 "metadata": {
  "kernelspec": {
   "display_name": "Python 3 (ipykernel)",
   "language": "python",
   "name": "python3"
  },
  "language_info": {
   "codemirror_mode": {
    "name": "ipython",
    "version": 3
   },
   "file_extension": ".py",
   "mimetype": "text/x-python",
   "name": "python",
   "nbconvert_exporter": "python",
   "pygments_lexer": "ipython3",
   "version": "3.9.7"
  }
 },
 "nbformat": 4,
 "nbformat_minor": 5
}
