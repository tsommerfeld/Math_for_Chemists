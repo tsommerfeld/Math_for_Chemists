{
 "cells": [
  {
   "cell_type": "markdown",
   "metadata": {},
   "source": [
    "## Solving $x=\\tan x$ with Newton-Raphson\n",
    "\n",
    "The Newton-Raphson algorithm finds a root of a function $f(x)$ by starting with an initial guess for the solution, $x_0$, and applying the iterative formula: $x_{n+1} = x_n - \\frac{f(x_n)}{f^{\\prime}(x_n)}$."
   ]
  },
  {
   "cell_type": "code",
   "execution_count": 3,
   "metadata": {},
   "outputs": [],
   "source": [
    "import numpy as np\n",
    "import matplotlib\n",
    "import matplotlib.pyplot as plt\n",
    "matplotlib.use('Qt5Agg')\n",
    "%matplotlib qt5"
   ]
  },
  {
   "cell_type": "markdown",
   "metadata": {},
   "source": [
    "In this notebook, I assume we do the symbolic math (calulus and algebra) on paper, and have the following ready:\n",
    "\n",
    "* Equation to solve: $f(x) = 0$, where $f(x) = \\tan x - x$.\n",
    "* $f^{\\prime}(x) = \\tan^2 x$.\n",
    "\n",
    "Define $f(x)$ and $f^{\\prime}(x)$ as `Python` functions:"
   ]
  },
  {
   "cell_type": "code",
   "execution_count": 4,
   "metadata": {},
   "outputs": [],
   "source": [
    "def f(x):\n",
    "    return np.tan(x) - x\n",
    "\n",
    "def fp(x):\n",
    "    return np.tan(x)**2"
   ]
  },
  {
   "cell_type": "markdown",
   "metadata": {},
   "source": [
    "### Start value\n",
    "\n",
    "Always, always, always start with a plot and get a guess with the mouse."
   ]
  },
  {
   "cell_type": "code",
   "execution_count": 5,
   "metadata": {},
   "outputs": [],
   "source": [
    "xmin=-5\n",
    "xmax=5\n",
    "x_pts = np.linspace(xmin, xmax, 200)\n",
    "y_pts = f(x_pts)\n",
    "plt.cla()\n",
    "plt.plot(x_pts, y_pts, 'o')\n",
    "plt.ylim(-5,5)\n",
    "plt.show()"
   ]
  },
  {
   "cell_type": "markdown",
   "metadata": {},
   "source": [
    "This surely looks confusing. \n",
    "\n",
    "Obviously this function has many zeros as each branch of $\\tan x$ crosses the line $x$ once. \n",
    "\n",
    "Worse, if we plot with connected lines the plot would show artifical zeros wherever $\\tan x$ jumps from $-\\infty$ to $\\infty$.\n",
    "\n",
    "Okay, so we have to make a decision. Let's compute the zero at about 4.3.\n",
    "\n",
    "The following loop implements the Newton-Raphson algorithm. It performs at most 10 steps, but stops if convergence has been reached."
   ]
  },
  {
   "cell_type": "code",
   "execution_count": 7,
   "metadata": {},
   "outputs": [
    {
     "name": "stdout",
     "output_type": "stream",
     "text": [
      " 4.3000000000\n",
      " 4.6854762440    0.3854762440\n",
      " 4.6619523164    0.0235239277\n",
      " 4.6233523226    0.0385999937\n",
      " 4.5709259629    0.0524263598\n",
      " 4.5212184117    0.0497075511\n",
      " 4.4970284791    0.0241899326\n",
      " 4.4934711586    0.0035573205\n",
      " 4.4934094759    0.0000616827\n",
      " 4.4934094579    0.0000000180\n",
      " 4.4934094579    0.0000000000\n",
      "Converged to 1.00e-08\n"
     ]
    }
   ],
   "source": [
    "threshold = 1e-8\n",
    "max_steps = 10\n",
    "x_old = 4.3\n",
    "print(f'{x_old:13.10f}')\n",
    "\n",
    "for i in range(max_steps):\n",
    "    x_new = x_old - f(x_old)/fp(x_old)\n",
    "    change = abs(x_new-x_old)\n",
    "    print(f'{x_new:13.10f}   {change:13.10f}')\n",
    "    if change < threshold:\n",
    "        break\n",
    "    x_old = x_new\n",
    "\n",
    "if change < threshold:\n",
    "    print(f'Converged to {threshold:.2e}')\n",
    "else:\n",
    "    print('No convergence.')"
   ]
  },
  {
   "cell_type": "markdown",
   "metadata": {},
   "source": [
    "## Task\n",
    "\n",
    "* Modify this notebook to solve the problems given in the handout.\n",
    "\n",
    "* This notebook contains plenty of explanation and try-it-out cells. Make a copy, rename it, delete unnecessary clutter, and create your own Newton-Raphson notebook."
   ]
  },
  {
   "cell_type": "code",
   "execution_count": null,
   "metadata": {},
   "outputs": [],
   "source": []
  }
 ],
 "metadata": {
  "kernelspec": {
   "display_name": "Python 3 (ipykernel)",
   "language": "python",
   "name": "python3"
  },
  "language_info": {
   "codemirror_mode": {
    "name": "ipython",
    "version": 3
   },
   "file_extension": ".py",
   "mimetype": "text/x-python",
   "name": "python",
   "nbconvert_exporter": "python",
   "pygments_lexer": "ipython3",
   "version": "3.9.7"
  }
 },
 "nbformat": 4,
 "nbformat_minor": 4
}
