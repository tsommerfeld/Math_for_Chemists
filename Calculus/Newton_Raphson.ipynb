{
 "cells": [
  {
   "cell_type": "markdown",
   "metadata": {},
   "source": [
    "## Solving $x=\\tan x$ with Newton-Raphson\n",
    "\n",
    "The Newton-Raphson algorithm finds a root of a function $f(x)$ by starting with an initial guess for the solution, $x_0$, and applying the iterative formula: $x_{n+1} = x_n - \\frac{f(x_n)}{f^{\\prime}(x_n)}$.\n",
    "\n",
    "I shall refer to the fraction $\\frac{f(x_n)}{f^{\\prime}(x_n)}$ as *correction factor* as it is used to correct the current guess for the root to arrive at a (hopefully) better one. "
   ]
  },
  {
   "cell_type": "code",
   "execution_count": 1,
   "metadata": {},
   "outputs": [],
   "source": [
    "import numpy as np\n",
    "import matplotlib\n",
    "import matplotlib.pyplot as plt\n",
    "matplotlib.use('Qt5Agg')\n",
    "%matplotlib qt5"
   ]
  },
  {
   "cell_type": "markdown",
   "metadata": {},
   "source": [
    "In this notebook we work with both numeric and symbolical math. For symbolic math we need symbolic Python: `sympy`.\n",
    "\n",
    "If the following box does not work on your computer, `sympy` is not included in your Python installation. With anaconda, `sympy` can be installed by typing\n",
    "```\n",
    "conda install sympy\n",
    "```"
   ]
  },
  {
   "cell_type": "code",
   "execution_count": 2,
   "metadata": {},
   "outputs": [],
   "source": [
    "from sympy import *\n",
    "init_printing(use_latex=True)\n",
    "import warnings\n",
    "from matplotlib import MatplotlibDeprecationWarning\n",
    "warnings.filterwarnings(\"ignore\", category=MatplotlibDeprecationWarning)\n",
    "#from sympy import init_session\n",
    "#init_session()\n",
    "#init_printing?"
   ]
  },
  {
   "cell_type": "markdown",
   "metadata": {},
   "source": [
    "Using both numeric and symbolic math in the same notebook is **dangerous** because numbers and symbolic variables are totally different objects, and assigning one to the other **will** lead to unintended consequences.\n",
    "\n",
    "Hence, I use the following convention:\n",
    "* Numeric variables will be small-caps: `x`, `y`, `t`, ...\n",
    "* Symbolic variables will be capitalized: `X`, `Y`, `T`, ...\n",
    "\n",
    "So `x` and `X` will represent the same variable, but `x` is used for numeric math, and `X` is used for symbolc math."
   ]
  },
  {
   "cell_type": "code",
   "execution_count": 4,
   "metadata": {},
   "outputs": [],
   "source": [
    "# define symbols for two real numbers\n",
    "X = symbols('X', real=True)"
   ]
  },
  {
   "cell_type": "markdown",
   "metadata": {},
   "source": [
    "We wish to solve $x=\\tan x$ or, expressed for root finding, $x - \\tan x = 0$.\n",
    "\n",
    "So the function we set to zero is $f(x) = x - \\tan x$.\n",
    "\n",
    "To apply the Newton-Raphson algorithm, we need\n",
    "* The correction factor $f(x)/f'(x)$.\n",
    "* An initial guess for the position of the root, $x_0$.\n",
    "\n",
    "Let's start with the correction factor."
   ]
  },
  {
   "cell_type": "code",
   "execution_count": 5,
   "metadata": {},
   "outputs": [
    {
     "data": {
      "image/png": "[encoded data removed]",
      "text/latex": [
       "$\\displaystyle X - \\tan{\\left(X \\right)}$"
      ],
      "text/plain": [
       "X - tan(X)"
      ]
     },
     "execution_count": 5,
     "metadata": {},
     "output_type": "execute_result"
    }
   ],
   "source": [
    "F = X - tan(X)\n",
    "F"
   ]
  },
  {
   "cell_type": "code",
   "execution_count": 7,
   "metadata": {},
   "outputs": [
    {
     "data": {
      "image/png": "[encoded data removed]",
      "text/latex": [
       "$\\displaystyle - \\tan^{2}{\\left(X \\right)}$"
      ],
      "text/plain": [
       "    2   \n",
       "-tan (X)"
      ]
     },
     "execution_count": 7,
     "metadata": {},
     "output_type": "execute_result"
    }
   ],
   "source": [
    "FP = diff(F, X)\n",
    "FP"
   ]
  },
  {
   "cell_type": "code",
   "execution_count": null,
   "metadata": {},
   "outputs": [
    {
     "data": {
      "image/png": "[encoded data removed]",
      "text/latex": [
       "$\\displaystyle - \\frac{X - \\tan{\\left(X \\right)}}{\\tan^{2}{\\left(X \\right)}}$"
      ],
      "text/plain": [
       "-(X - tan(X)) \n",
       "──────────────\n",
       "      2       \n",
       "   tan (X)    "
      ]
     },
     "execution_count": 8,
     "metadata": {},
     "output_type": "execute_result"
    }
   ],
   "source": [
    "C = F/FP\n",
    "C"
   ]
  },
  {
   "cell_type": "markdown",
   "metadata": {},
   "source": [
    "If we now evalute the correction factor for $X=1$, we get a symbolic expression. "
   ]
  },
  {
   "cell_type": "code",
   "execution_count": 15,
   "metadata": {},
   "outputs": [
    {
     "data": {
      "image/png": "[encoded data removed]",
      "text/latex": [
       "$\\displaystyle - \\frac{1 - \\tan{\\left(1 \\right)}}{\\tan^{2}{\\left(1 \\right)}}$"
      ],
      "text/plain": [
       "-(1 - tan(1)) \n",
       "──────────────\n",
       "      2       \n",
       "   tan (1)    "
      ]
     },
     "execution_count": 15,
     "metadata": {},
     "output_type": "execute_result"
    }
   ],
   "source": [
    "C.subs(X,1)"
   ]
  },
  {
   "cell_type": "markdown",
   "metadata": {},
   "source": [
    "That is great, but not what we need. For the Newton-Raphson iteraton we need the actual number. To get that we use the `sympy` function `lambdify`, which turns a symbolic function into a numeric one. The argument `\"numpy\"` lets `sympy` know which numeric Python library to use for functions such as sin, exp, of ln."
   ]
  },
  {
   "cell_type": "code",
   "execution_count": 18,
   "metadata": {},
   "outputs": [
    {
     "data": {
      "text/plain": [
       "<function _lambdifygenerated(X)>"
      ]
     },
     "execution_count": 18,
     "metadata": {},
     "output_type": "execute_result"
    }
   ],
   "source": [
    "f = lambdify(X, F, \"numpy\")\n",
    "c = lambdify(X, C, \"numpy\")\n",
    "c"
   ]
  },
  {
   "cell_type": "markdown",
   "metadata": {},
   "source": [
    "Now we get the numerical value we want."
   ]
  },
  {
   "cell_type": "code",
   "execution_count": 19,
   "metadata": {},
   "outputs": [
    {
     "name": "stdout",
     "output_type": "stream",
     "text": [
      "-0.5574077246549023 0.22980968849693878\n"
     ]
    }
   ],
   "source": [
    "print(f(1), c(1))"
   ]
  },
  {
   "cell_type": "markdown",
   "metadata": {},
   "source": [
    "### Start value\n",
    "\n",
    "Always, always, always start with a plot and get a guess with the mouse."
   ]
  },
  {
   "cell_type": "code",
   "execution_count": 21,
   "metadata": {},
   "outputs": [],
   "source": [
    "xmin=-5\n",
    "xmax=5\n",
    "x_pts = np.linspace(xmin, xmax, 200)\n",
    "y_pts = f(x_pts)\n",
    "plt.cla()\n",
    "plt.plot(x_pts, y_pts, 'o')\n",
    "plt.ylim(-5,5)\n",
    "plt.show()"
   ]
  },
  {
   "cell_type": "markdown",
   "metadata": {},
   "source": [
    "This surely looks confusing. \n",
    "\n",
    "Obviously this function has many zeros as each branch of $\\tan x$ crosses the line $x$ once. \n",
    "\n",
    "Worse, if we plot with connected lines the plot would show artifical zeros wherever $\\tan x$ jumps from $-\\infty$ to $\\infty$.\n",
    "\n",
    "Okay, so we have to make a decision. Let's compute the zero at about 4.3.\n",
    "\n",
    "The following loop implements the Newton-Raphson algorithm. It performs at most 10 steps, but stops if convergence has been reached."
   ]
  },
  {
   "cell_type": "code",
   "execution_count": 30,
   "metadata": {},
   "outputs": [
    {
     "name": "stdout",
     "output_type": "stream",
     "text": [
      " 4.3000000000\n",
      " 4.6854762440    0.3854762440\n",
      " 4.6619523164    0.0235239277\n",
      " 4.6233523226    0.0385999937\n",
      " 4.5709259629    0.0524263598\n",
      " 4.5212184117    0.0497075511\n",
      " 4.4970284791    0.0241899326\n",
      " 4.4934711586    0.0035573205\n",
      " 4.4934094759    0.0000616827\n",
      " 4.4934094579    0.0000000180\n",
      " 4.4934094579    0.0000000000\n",
      "Converged to 1.00e-08\n"
     ]
    }
   ],
   "source": [
    "threshold = 1e-8\n",
    "max_steps = 10\n",
    "x_old = 4.3\n",
    "print(f'{x_old:13.10f}')\n",
    "\n",
    "for i in range(max_steps):\n",
    "    x_new = x_old - c(x_old)\n",
    "    change = abs(x_new-x_old)\n",
    "    print(f'{x_new:13.10f}   {change:13.10f}')\n",
    "    if change < threshold:\n",
    "        break\n",
    "    x_old = x_new\n",
    "\n",
    "if change < threshold:\n",
    "    print(f'Converged to {threshold:.2e}')\n",
    "else:\n",
    "    print('No convergence.')"
   ]
  },
  {
   "cell_type": "markdown",
   "metadata": {},
   "source": [
    "## Task\n",
    "\n",
    "* Modify this notebook to solve the problems given in the handout.\n",
    "\n",
    "* This notebook contains plenty of explanation and try-it-out cells. Make a copy, rename it, delete unnecessary clutter, and create your own Newton-Raphson notebook."
   ]
  },
  {
   "cell_type": "code",
   "execution_count": null,
   "metadata": {},
   "outputs": [],
   "source": []
  }
 ],
 "metadata": {
  "kernelspec": {
   "display_name": "Python 3 (ipykernel)",
   "language": "python",
   "name": "python3"
  },
  "language_info": {
   "codemirror_mode": {
    "name": "ipython",
    "version": 3
   },
   "file_extension": ".py",
   "mimetype": "text/x-python",
   "name": "python",
   "nbconvert_exporter": "python",
   "pygments_lexer": "ipython3",
   "version": "3.8.12"
  }
 },
 "nbformat": 4,
 "nbformat_minor": 4
}
