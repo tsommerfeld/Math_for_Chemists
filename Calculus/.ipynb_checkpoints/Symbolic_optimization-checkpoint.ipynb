{
 "cells": [
  {
   "cell_type": "markdown",
   "metadata": {},
   "source": [
    "## Optimizing the energy of a linear Ar-Ar-Ar cluster\n",
    "\n",
    "We model the Ar-Ar interaction with a Lennard-Jones potential: $V(r) = 4 \\epsilon \\left(  \\left(\\frac{\\sigma}{r}\\right)^{12} -  \\left(\\frac{\\sigma}{r}\\right)^6 \\right)$, where $\\epsilon$ is the bond-formation energy and $\\sigma$ is related to the bond distance.\n",
    "\n",
    "In this notebook we work with symbolical math, so we need symbolic Python: `sympy`.\n",
    "\n",
    "If the following box does not work on your computer, `sympy` is not included in your Python installation. With anaconda, `sympy` can be installed by typing\n",
    "```\n",
    "conda install sympy\n",
    "```"
   ]
  },
  {
   "cell_type": "code",
   "execution_count": 1,
   "metadata": {},
   "outputs": [],
   "source": [
    "from sympy import *\n",
    "# init_printing(use_latex=True)\n",
    "# import warnings\n",
    "# from matplotlib import MatplotlibDeprecationWarning\n",
    "# warnings.filterwarnings(\"ignore\", category=MatplotlibDeprecationWarning)\n",
    "#from sympy import init_session\n",
    "#init_session()\n",
    "#init_printing?"
   ]
  },
  {
   "cell_type": "markdown",
   "metadata": {},
   "source": [
    "Use the following symbols:\n",
    "* `e` for $\\epsilon$ \n",
    "* `s` for $\\sigma$ \n",
    "* `V12` for the next-neighbor potential \n",
    "* `V13` for the next but one neighbor potential\n",
    "* `Vt` for the total potential energy"
   ]
  },
  {
   "cell_type": "code",
   "execution_count": 2,
   "metadata": {},
   "outputs": [],
   "source": [
    "r, e, s = symbols('r e s', real=True, positive=True)\n",
    "V12, V13, Vt = symbols('V12 V13 Vt', cls=Function)"
   ]
  },
  {
   "cell_type": "code",
   "execution_count": 3,
   "metadata": {},
   "outputs": [
    {
     "data": {
      "text/latex": [
       "$\\displaystyle 4 e \\left(- \\frac{s^{6}}{r^{6}} + \\frac{s^{12}}{r^{12}}\\right)$"
      ],
      "text/plain": [
       "4*e*(-s**6/r**6 + s**12/r**12)"
      ]
     },
     "execution_count": 3,
     "metadata": {},
     "output_type": "execute_result"
    }
   ],
   "source": [
    "V12 = 4*e*(  (s/r)**12 - (s/r)**6 )\n",
    "V12"
   ]
  },
  {
   "cell_type": "code",
   "execution_count": 4,
   "metadata": {},
   "outputs": [
    {
     "data": {
      "text/latex": [
       "$\\displaystyle 4 e \\left(- \\frac{s^{6}}{64 r^{6}} + \\frac{s^{12}}{4096 r^{12}}\\right)$"
      ],
      "text/plain": [
       "4*e*(-s**6/(64*r**6) + s**12/(4096*r**12))"
      ]
     },
     "execution_count": 4,
     "metadata": {},
     "output_type": "execute_result"
    }
   ],
   "source": [
    "V13 = 4*e*(  (s/(2*r))**12 - (s/(2*r))**6 )\n",
    "V13"
   ]
  },
  {
   "cell_type": "code",
   "execution_count": 5,
   "metadata": {},
   "outputs": [
    {
     "data": {
      "text/latex": [
       "$\\displaystyle 8 e \\left(- \\frac{s^{6}}{r^{6}} + \\frac{s^{12}}{r^{12}}\\right) + 4 e \\left(- \\frac{s^{6}}{64 r^{6}} + \\frac{s^{12}}{4096 r^{12}}\\right)$"
      ],
      "text/plain": [
       "8*e*(-s**6/r**6 + s**12/r**12) + 4*e*(-s**6/(64*r**6) + s**12/(4096*r**12))"
      ]
     },
     "execution_count": 5,
     "metadata": {},
     "output_type": "execute_result"
    }
   ],
   "source": [
    "Vt = 2*V12 + V13\n",
    "Vt"
   ]
  },
  {
   "cell_type": "markdown",
   "metadata": {},
   "source": [
    "## Find the derivative $dV/dr$"
   ]
  },
  {
   "cell_type": "code",
   "execution_count": 6,
   "metadata": {},
   "outputs": [
    {
     "data": {
      "text/latex": [
       "$\\displaystyle 4 e \\left(\\frac{3 s^{6}}{32 r^{7}} - \\frac{3 s^{12}}{1024 r^{13}}\\right) + 8 e \\left(\\frac{6 s^{6}}{r^{7}} - \\frac{12 s^{12}}{r^{13}}\\right)$"
      ],
      "text/plain": [
       "4*e*(3*s**6/(32*r**7) - 3*s**12/(1024*r**13)) + 8*e*(6*s**6/r**7 - 12*s**12/r**13)"
      ]
     },
     "execution_count": 6,
     "metadata": {},
     "output_type": "execute_result"
    }
   ],
   "source": [
    "dVt=diff(Vt, r)\n",
    "dVt"
   ]
  },
  {
   "cell_type": "markdown",
   "metadata": {},
   "source": [
    "## Solve $dV/dr = 0$\n",
    "\n",
    "To find the position where the derivative is equal to zero, we use the `sympy` function `solveset`, which solves equations algebraically. It takes at least two arguments: \n",
    "\n",
    "* The equation to be solved in the implicit form $f(x)$, where the equation actually solved is $f(x)=0$. If you want to solve $A(x)=B(x)$, `solveset` takes $A-B$.\n",
    "* The variable we want to solve for. Here the minimal energy bond distance $r$.\n",
    "* As optional aguments in the form `domain=...` the domain where to search for solutions. The default are the complex numbers.\n",
    "\n",
    "In the example below, `solveset` finds the correct positive solution, but it also returns the negative solution as well as plenty of complex solutions. Its a math engine, it will be thorough and does not know what you are interested in. "
   ]
  },
  {
   "cell_type": "code",
   "execution_count": 7,
   "metadata": {},
   "outputs": [
    {
     "data": {
      "text/latex": [
       "$\\displaystyle \\left\\{- \\frac{\\sqrt[6]{802960115666} s}{86}, \\frac{\\sqrt[6]{802960115666} s}{86}, s \\left(- \\frac{\\sqrt[6]{802960115666}}{172} - \\frac{\\sqrt{3} \\sqrt[6]{802960115666} i}{172}\\right), s \\left(- \\frac{\\sqrt[6]{802960115666}}{172} + \\frac{\\sqrt{3} \\sqrt[6]{802960115666} i}{172}\\right), s \\left(\\frac{\\sqrt[6]{802960115666}}{172} - \\frac{\\sqrt{3} \\sqrt[6]{802960115666} i}{172}\\right), s \\left(\\frac{\\sqrt[6]{802960115666}}{172} + \\frac{\\sqrt{3} \\sqrt[6]{802960115666} i}{172}\\right)\\right\\}$"
      ],
      "text/plain": [
       "{-802960115666**(1/6)*s/86, 802960115666**(1/6)*s/86, s*(-802960115666**(1/6)/172 - sqrt(3)*802960115666**(1/6)*I/172), s*(-802960115666**(1/6)/172 + sqrt(3)*802960115666**(1/6)*I/172), s*(802960115666**(1/6)/172 - sqrt(3)*802960115666**(1/6)*I/172), s*(802960115666**(1/6)/172 + sqrt(3)*802960115666**(1/6)*I/172)}"
      ]
     },
     "execution_count": 7,
     "metadata": {},
     "output_type": "execute_result"
    }
   ],
   "source": [
    "solveset(dVt, r)"
   ]
  },
  {
   "cell_type": "code",
   "execution_count": 8,
   "metadata": {},
   "outputs": [
    {
     "data": {
      "text/latex": [
       "$\\displaystyle \\left\\{- \\frac{\\sqrt[6]{802960115666} s}{86}, \\frac{\\sqrt[6]{802960115666} s}{86}\\right\\}$"
      ],
      "text/plain": [
       "{-802960115666**(1/6)*s/86, 802960115666**(1/6)*s/86}"
      ]
     },
     "execution_count": 8,
     "metadata": {},
     "output_type": "execute_result"
    }
   ],
   "source": [
    "# This is much better\n",
    "solveset(dVt, r, domain=S.Reals)"
   ]
  },
  {
   "cell_type": "code",
   "execution_count": 9,
   "metadata": {},
   "outputs": [
    {
     "data": {
      "text/latex": [
       "$\\displaystyle \\left\\{\\frac{\\sqrt[6]{802960115666} s}{86}\\right\\}$"
      ],
      "text/plain": [
       "{802960115666**(1/6)*s/86}"
      ]
     },
     "execution_count": 9,
     "metadata": {},
     "output_type": "execute_result"
    }
   ],
   "source": [
    "# Best: only the positive solution.\n",
    "solveset(dVt, r, domain=Interval.open(0, oo))"
   ]
  },
  {
   "cell_type": "markdown",
   "metadata": {},
   "source": [
    "## Substitute the optimal $r$ into $V(r)$\n",
    "\n",
    "This is the minimal energy at the optimal bond length."
   ]
  },
  {
   "cell_type": "code",
   "execution_count": 10,
   "metadata": {},
   "outputs": [
    {
     "data": {
      "text/latex": [
       "$\\displaystyle - 2.03112413035518 e$"
      ],
      "text/plain": [
       "-2.03112413035518*e"
      ]
     },
     "execution_count": 10,
     "metadata": {},
     "output_type": "execute_result"
    }
   ],
   "source": [
    "r_opt = (802960115666)**(1/6)*s/86\n",
    "Vt.subs(r, r_opt)"
   ]
  },
  {
   "cell_type": "code",
   "execution_count": null,
   "metadata": {},
   "outputs": [],
   "source": []
  }
 ],
 "metadata": {
  "kernelspec": {
   "display_name": "Python 3 (ipykernel)",
   "language": "python",
   "name": "python3"
  },
  "language_info": {
   "codemirror_mode": {
    "name": "ipython",
    "version": 3
   },
   "file_extension": ".py",
   "mimetype": "text/x-python",
   "name": "python",
   "nbconvert_exporter": "python",
   "pygments_lexer": "ipython3",
   "version": "3.9.7"
  }
 },
 "nbformat": 4,
 "nbformat_minor": 4
}
