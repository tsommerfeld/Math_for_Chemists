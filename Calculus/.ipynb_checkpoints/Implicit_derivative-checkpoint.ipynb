{
 "cells": [
  {
   "cell_type": "markdown",
   "metadata": {},
   "source": [
    "## Implicit derivatives"
   ]
  },
  {
   "cell_type": "code",
   "execution_count": 1,
   "metadata": {},
   "outputs": [],
   "source": [
    "from sympy import *\n",
    "# init_printing(use_latex=True)\n",
    "# import warnings\n",
    "# from matplotlib import MatplotlibDeprecationWarning\n",
    "# warnings.filterwarnings(\"ignore\", category=MatplotlibDeprecationWarning)\n",
    "#from sympy import init_session\n",
    "#init_session()\n",
    "#init_printing?"
   ]
  },
  {
   "cell_type": "markdown",
   "metadata": {},
   "source": [
    "I try to stick to the convention that capital letters represent symbolic variables - unless a notebook has only symbolic variables and there is no danger of confusion."
   ]
  },
  {
   "cell_type": "code",
   "execution_count": 2,
   "metadata": {},
   "outputs": [],
   "source": [
    "X, Y = symbols('X, Y', real=True)"
   ]
  },
  {
   "cell_type": "markdown",
   "metadata": {},
   "source": [
    "As an example, consider the implicit function $x^2 + y^2 = 25$ or \n",
    "$x^2 + y^2 - 25 = 0$.\n",
    "\n",
    "Take the implicit derivative: $\\frac{d}{dx}\\left( x^2 + y^2 - 25 = 0\\right)$.\n",
    "\n",
    "As the derivatives of $25$ and $0$ are $0$, we get $2x + 2y\\frac{dy}{dx} = 0$.\n",
    "\n",
    "Note that the chain-rule is needed for $\\frac{d}{dx}y^2$.\n",
    "\n",
    "Solving for $\\frac{dy}{dx}$ yields $\\frac{dy}{dx} = - \\frac{x}{y}$, which is implicit, too. \n",
    "\n",
    "### Task\n",
    "\n",
    "Sketch the function and show that the derivative makes sense.\n",
    "\n",
    "### Sympy version\n",
    "\n",
    "First, define the function, all terms on one side, that is, $F=0$ form."
   ]
  },
  {
   "cell_type": "code",
   "execution_count": 3,
   "metadata": {},
   "outputs": [
    {
     "data": {
      "text/latex": [
       "$\\displaystyle X^{2} + Y^{2} - 25$"
      ],
      "text/plain": [
       "X**2 + Y**2 - 25"
      ]
     },
     "execution_count": 3,
     "metadata": {},
     "output_type": "execute_result"
    }
   ],
   "source": [
    "F = X**2 + Y**2 - 25\n",
    "F"
   ]
  },
  {
   "cell_type": "markdown",
   "metadata": {},
   "source": [
    "Second, take the derivative:\n",
    "\n",
    "`idiff`(`function`, `dependent-variable`, `independent-variable`)"
   ]
  },
  {
   "cell_type": "code",
   "execution_count": 4,
   "metadata": {},
   "outputs": [
    {
     "data": {
      "text/latex": [
       "$\\displaystyle - \\frac{X}{Y}$"
      ],
      "text/plain": [
       "-X/Y"
      ]
     },
     "execution_count": 4,
     "metadata": {},
     "output_type": "execute_result"
    }
   ],
   "source": [
    "idiff(F, Y, X)"
   ]
  },
  {
   "cell_type": "markdown",
   "metadata": {},
   "source": [
    "### Task\n",
    "\n",
    "Use sympy to check your answers for the questions in the handout."
   ]
  },
  {
   "cell_type": "code",
   "execution_count": null,
   "metadata": {},
   "outputs": [],
   "source": []
  }
 ],
 "metadata": {
  "kernelspec": {
   "display_name": "Python 3 (ipykernel)",
   "language": "python",
   "name": "python3"
  },
  "language_info": {
   "codemirror_mode": {
    "name": "ipython",
    "version": 3
   },
   "file_extension": ".py",
   "mimetype": "text/x-python",
   "name": "python",
   "nbconvert_exporter": "python",
   "pygments_lexer": "ipython3",
   "version": "3.8.12"
  }
 },
 "nbformat": 4,
 "nbformat_minor": 4
}
