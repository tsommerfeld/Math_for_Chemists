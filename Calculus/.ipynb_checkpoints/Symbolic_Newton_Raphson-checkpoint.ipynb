{
 "cells": [
  {
   "cell_type": "markdown",
   "metadata": {},
   "source": [
    "## Dice game Qwantum \n",
    "\n",
    "`Qwantum` is a dice game with one white and six colored dice. The objective is to enter for each of the four colors six numbers where the first four numbers increase and the last two numbers decrease.\n",
    "\n",
    "The trick is that **number** associated with a color is the sum of all dice showing that color plus the white die.\n",
    "\n",
    "Roughly speaking numbers between 2 (a single one plus a white one) and 33 are possible, however, rolling more than 15 is rather improbable. Let's find out just how improbable by simulating the distribution of numbers."
   ]
  },
  {
   "cell_type": "code",
   "execution_count": 34,
   "metadata": {},
   "outputs": [],
   "source": [
    "import numpy as np\n",
    "import pandas as pd\n",
    "import matplotlib\n",
    "import matplotlib.pyplot as plt\n",
    "matplotlib.use('Qt5Agg')\n",
    "%matplotlib qt5"
   ]
  },
  {
   "cell_type": "code",
   "execution_count": 13,
   "metadata": {},
   "outputs": [
    {
     "name": "stdout",
     "output_type": "stream",
     "text": [
      "5 0 3 0 4 3 2 2 2 4 4 3 5 3 2 0 2 1 2 0 \n"
     ]
    }
   ],
   "source": [
    "# a random integer\n",
    "for i in range(20):\n",
    "    print(np.random.randint(0,6), end=' ')\n",
    "print()"
   ]
  },
  {
   "cell_type": "code",
   "execution_count": 23,
   "metadata": {},
   "outputs": [],
   "source": [
    "purple = np.array([\n",
    "[6,2,0,0,0,0],\n",
    "[6,0,0,0,0,0],    \n",
    "[3,1,0,0,0,0],\n",
    "[3,0,0,0,0,0],\n",
    "[4,0,0,0,0,0],\n",
    "[5,2,0,0,0,0],\n",
    "])\n",
    "yellow = np.array([\n",
    "[0,0,1,5,0,0],\n",
    "[0,5,0,0,0,0],    \n",
    "[0,0,6,0,0,0],\n",
    "[0,4,2,0,0,0],\n",
    "[0,3,1,0,0,0],\n",
    "[0,0,4,0,0,0],\n",
    "])\n",
    "red = np.array([\n",
    "[0,0,0,0,6,0],\n",
    "[0,0,1,4,0,0],    \n",
    "[0,0,0,5,0,0],\n",
    "[0,0,0,3,1,0],\n",
    "[0,0,0,6,3,0],\n",
    "[0,0,0,3,0,0],\n",
    "])\n",
    "blue = np.array([\n",
    "[0,0,0,0,0,3],\n",
    "[0,0,0,0,1,5],    \n",
    "[0,0,0,0,2,4],\n",
    "[0,0,0,0,0,4],\n",
    "[0,0,0,0,0,5],\n",
    "[0,0,0,0,2,6],\n",
    "])"
   ]
  },
  {
   "cell_type": "code",
   "execution_count": 32,
   "metadata": {},
   "outputs": [],
   "source": [
    "def throw():\n",
    "    p, r, y, b = 0, 0, 0, 0\n",
    "    for i in range(6):\n",
    "        d = np.random.randint(0,6)\n",
    "        p += purple[i,d]\n",
    "        r += red[i,d]\n",
    "        y += yellow[i,d]\n",
    "        b += blue[i,d]\n",
    "    return p, r, y, b"
   ]
  },
  {
   "cell_type": "code",
   "execution_count": 37,
   "metadata": {},
   "outputs": [],
   "source": [
    "n = 100000\n",
    "results = np.zeros((n,4), int)\n",
    "for i in range(n):\n",
    "    results[i,:] = throw()\n",
    "#results"
   ]
  },
  {
   "cell_type": "code",
   "execution_count": 38,
   "metadata": {},
   "outputs": [
    {
     "data": {
      "text/html": [
       "<div>\n",
       "<style scoped>\n",
       "    .dataframe tbody tr th:only-of-type {\n",
       "        vertical-align: middle;\n",
       "    }\n",
       "\n",
       "    .dataframe tbody tr th {\n",
       "        vertical-align: top;\n",
       "    }\n",
       "\n",
       "    .dataframe thead th {\n",
       "        text-align: right;\n",
       "    }\n",
       "</style>\n",
       "<table border=\"1\" class=\"dataframe\">\n",
       "  <thead>\n",
       "    <tr style=\"text-align: right;\">\n",
       "      <th></th>\n",
       "      <th>purple</th>\n",
       "      <th>red</th>\n",
       "      <th>yellow</th>\n",
       "      <th>blue</th>\n",
       "    </tr>\n",
       "  </thead>\n",
       "  <tbody>\n",
       "    <tr>\n",
       "      <th>0</th>\n",
       "      <td>0</td>\n",
       "      <td>9</td>\n",
       "      <td>11</td>\n",
       "      <td>5</td>\n",
       "    </tr>\n",
       "    <tr>\n",
       "      <th>1</th>\n",
       "      <td>3</td>\n",
       "      <td>6</td>\n",
       "      <td>4</td>\n",
       "      <td>4</td>\n",
       "    </tr>\n",
       "    <tr>\n",
       "      <th>2</th>\n",
       "      <td>12</td>\n",
       "      <td>6</td>\n",
       "      <td>1</td>\n",
       "      <td>6</td>\n",
       "    </tr>\n",
       "    <tr>\n",
       "      <th>3</th>\n",
       "      <td>9</td>\n",
       "      <td>0</td>\n",
       "      <td>16</td>\n",
       "      <td>0</td>\n",
       "    </tr>\n",
       "    <tr>\n",
       "      <th>4</th>\n",
       "      <td>6</td>\n",
       "      <td>3</td>\n",
       "      <td>6</td>\n",
       "      <td>9</td>\n",
       "    </tr>\n",
       "    <tr>\n",
       "      <th>...</th>\n",
       "      <td>...</td>\n",
       "      <td>...</td>\n",
       "      <td>...</td>\n",
       "      <td>...</td>\n",
       "    </tr>\n",
       "    <tr>\n",
       "      <th>99995</th>\n",
       "      <td>9</td>\n",
       "      <td>9</td>\n",
       "      <td>0</td>\n",
       "      <td>7</td>\n",
       "    </tr>\n",
       "    <tr>\n",
       "      <th>99996</th>\n",
       "      <td>0</td>\n",
       "      <td>7</td>\n",
       "      <td>20</td>\n",
       "      <td>0</td>\n",
       "    </tr>\n",
       "    <tr>\n",
       "      <th>99997</th>\n",
       "      <td>2</td>\n",
       "      <td>11</td>\n",
       "      <td>5</td>\n",
       "      <td>6</td>\n",
       "    </tr>\n",
       "    <tr>\n",
       "      <th>99998</th>\n",
       "      <td>3</td>\n",
       "      <td>9</td>\n",
       "      <td>5</td>\n",
       "      <td>7</td>\n",
       "    </tr>\n",
       "    <tr>\n",
       "      <th>99999</th>\n",
       "      <td>7</td>\n",
       "      <td>8</td>\n",
       "      <td>5</td>\n",
       "      <td>5</td>\n",
       "    </tr>\n",
       "  </tbody>\n",
       "</table>\n",
       "<p>100000 rows × 4 columns</p>\n",
       "</div>"
      ],
      "text/plain": [
       "       purple  red  yellow  blue\n",
       "0           0    9      11     5\n",
       "1           3    6       4     4\n",
       "2          12    6       1     6\n",
       "3           9    0      16     0\n",
       "4           6    3       6     9\n",
       "...       ...  ...     ...   ...\n",
       "99995       9    9       0     7\n",
       "99996       0    7      20     0\n",
       "99997       2   11       5     6\n",
       "99998       3    9       5     7\n",
       "99999       7    8       5     5\n",
       "\n",
       "[100000 rows x 4 columns]"
      ]
     },
     "execution_count": 38,
     "metadata": {},
     "output_type": "execute_result"
    }
   ],
   "source": [
    "dic = {'purple':results[:,0], 'red':results[:,1], 'yellow':results[:,2], 'blue':results[:,3]}\n",
    "df = pd.DataFrame(dic)\n",
    "df"
   ]
  },
  {
   "cell_type": "code",
   "execution_count": 42,
   "metadata": {},
   "outputs": [
    {
     "data": {
      "text/plain": [
       "0     17258\n",
       "1      4329\n",
       "2      8594\n",
       "3      9658\n",
       "4      5291\n",
       "5      9474\n",
       "6     11833\n",
       "7      5251\n",
       "8      5925\n",
       "9      6081\n",
       "10     3170\n",
       "11     4086\n",
       "12     2960\n",
       "13     1492\n",
       "14     1536\n",
       "15     1232\n",
       "16      523\n",
       "17      548\n",
       "18      374\n",
       "19      102\n",
       "20      138\n",
       "21       90\n",
       "22       20\n",
       "23       15\n",
       "24       18\n",
       "25        1\n",
       "27        1\n",
       "Name: purple, dtype: int64"
      ]
     },
     "execution_count": 42,
     "metadata": {},
     "output_type": "execute_result"
    }
   ],
   "source": [
    "counts_unsorted = df.purple.value_counts()\n",
    "p_counts = counts_unsorted.sort_index()\n",
    "p_counts"
   ]
  },
  {
   "cell_type": "code",
   "execution_count": 43,
   "metadata": {},
   "outputs": [
    {
     "data": {
      "text/plain": [
       "<AxesSubplot:>"
      ]
     },
     "execution_count": 43,
     "metadata": {},
     "output_type": "execute_result"
    }
   ],
   "source": [
    "p_counts.plot.bar()"
   ]
  },
  {
   "cell_type": "code",
   "execution_count": null,
   "metadata": {},
   "outputs": [],
   "source": []
  }
 ],
 "metadata": {
  "kernelspec": {
   "display_name": "Python 3 (ipykernel)",
   "language": "python",
   "name": "python3"
  },
  "language_info": {
   "codemirror_mode": {
    "name": "ipython",
    "version": 3
   },
   "file_extension": ".py",
   "mimetype": "text/x-python",
   "name": "python",
   "nbconvert_exporter": "python",
   "pygments_lexer": "ipython3",
   "version": "3.8.12"
  }
 },
 "nbformat": 4,
 "nbformat_minor": 4
}
