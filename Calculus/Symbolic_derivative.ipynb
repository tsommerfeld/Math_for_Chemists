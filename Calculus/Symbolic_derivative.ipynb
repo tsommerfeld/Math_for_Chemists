{
 "cells": [
  {
   "cell_type": "markdown",
   "metadata": {},
   "source": [
    "## Sympy example\n",
    "\n",
    "In this notebook we work with symbolical math, so we need symbolic Python: `sympy`.\n",
    "\n",
    "If the following box does not work on your computer, `sympy` is not included in your Python installation. With anaconda, `sympy` can be installed by typing\n",
    "```\n",
    "conda install sympy\n",
    "```"
   ]
  },
  {
   "cell_type": "code",
   "execution_count": 2,
   "metadata": {},
   "outputs": [],
   "source": [
    "from sympy import *\n",
    "# init_printing(use_latex=True)\n",
    "# import warnings\n",
    "# from matplotlib import MatplotlibDeprecationWarning\n",
    "# warnings.filterwarnings(\"ignore\", category=MatplotlibDeprecationWarning)\n",
    "#from sympy import init_session\n",
    "#init_session()\n",
    "#init_printing?"
   ]
  },
  {
   "cell_type": "markdown",
   "metadata": {},
   "source": [
    "I try to stick to the convention that capital letters represent symbolic variables - unless a notebook has only symbolic variables and there is no danger of confusion."
   ]
  },
  {
   "cell_type": "code",
   "execution_count": 3,
   "metadata": {},
   "outputs": [],
   "source": [
    "X, Y, A, B = symbols('X, Y, A, B', real=True)\n",
    "F = symbols('V12 V13 Vt', cls=Function)"
   ]
  },
  {
   "cell_type": "code",
   "execution_count": 10,
   "metadata": {},
   "outputs": [
    {
     "data": {
      "text/latex": [
       "$\\displaystyle \\frac{X}{Y} + \\log{\\left(- X^{2} Y + 1 \\right)}$"
      ],
      "text/plain": [
       "X/Y + log(-X**2*Y + 1)"
      ]
     },
     "execution_count": 10,
     "metadata": {},
     "output_type": "execute_result"
    }
   ],
   "source": [
    "F = log(1-Y*X**2) + X/Y\n",
    "F"
   ]
  },
  {
   "cell_type": "code",
   "execution_count": 8,
   "metadata": {},
   "outputs": [
    {
     "data": {
      "text/latex": [
       "$\\displaystyle - \\frac{2 X Y}{- X^{2} Y + 1} + \\frac{1}{Y}$"
      ],
      "text/plain": [
       "-2*X*Y/(-X**2*Y + 1) + 1/Y"
      ]
     },
     "execution_count": 8,
     "metadata": {},
     "output_type": "execute_result"
    }
   ],
   "source": [
    "diff(F,X)"
   ]
  },
  {
   "cell_type": "code",
   "execution_count": 9,
   "metadata": {},
   "outputs": [
    {
     "data": {
      "text/latex": [
       "$\\displaystyle - \\frac{X^{2}}{- X^{2} Y + 1} - \\frac{X}{Y^{2}}$"
      ],
      "text/plain": [
       "-X**2/(-X**2*Y + 1) - X/Y**2"
      ]
     },
     "execution_count": 9,
     "metadata": {},
     "output_type": "execute_result"
    }
   ],
   "source": [
    "diff(F,Y)"
   ]
  },
  {
   "cell_type": "code",
   "execution_count": 11,
   "metadata": {},
   "outputs": [
    {
     "data": {
      "text/latex": [
       "$\\displaystyle e^{- \\frac{\\left(A - 7\\right)^{2}}{B^{2}}}$"
      ],
      "text/plain": [
       "exp(-(A - 7)**2/B**2)"
      ]
     },
     "execution_count": 11,
     "metadata": {},
     "output_type": "execute_result"
    }
   ],
   "source": [
    "F = exp(-(A-7)**2/B**2)\n",
    "F"
   ]
  },
  {
   "cell_type": "code",
   "execution_count": 12,
   "metadata": {},
   "outputs": [
    {
     "data": {
      "text/latex": [
       "$\\displaystyle - \\frac{\\left(2 A - 14\\right) e^{- \\frac{\\left(A - 7\\right)^{2}}{B^{2}}}}{B^{2}}$"
      ],
      "text/plain": [
       "-(2*A - 14)*exp(-(A - 7)**2/B**2)/B**2"
      ]
     },
     "execution_count": 12,
     "metadata": {},
     "output_type": "execute_result"
    }
   ],
   "source": [
    "diff(F,A)"
   ]
  },
  {
   "cell_type": "code",
   "execution_count": 13,
   "metadata": {},
   "outputs": [
    {
     "data": {
      "text/latex": [
       "$\\displaystyle \\frac{2 \\left(A - 7\\right)^{2} e^{- \\frac{\\left(A - 7\\right)^{2}}{B^{2}}}}{B^{3}}$"
      ],
      "text/plain": [
       "2*(A - 7)**2*exp(-(A - 7)**2/B**2)/B**3"
      ]
     },
     "execution_count": 13,
     "metadata": {},
     "output_type": "execute_result"
    }
   ],
   "source": [
    "diff(F,B)"
   ]
  },
  {
   "cell_type": "code",
   "execution_count": null,
   "metadata": {},
   "outputs": [],
   "source": []
  }
 ],
 "metadata": {
  "kernelspec": {
   "display_name": "Python 3 (ipykernel)",
   "language": "python",
   "name": "python3"
  },
  "language_info": {
   "codemirror_mode": {
    "name": "ipython",
    "version": 3
   },
   "file_extension": ".py",
   "mimetype": "text/x-python",
   "name": "python",
   "nbconvert_exporter": "python",
   "pygments_lexer": "ipython3",
   "version": "3.8.12"
  }
 },
 "nbformat": 4,
 "nbformat_minor": 4
}
