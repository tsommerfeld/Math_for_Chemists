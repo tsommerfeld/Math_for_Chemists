{
 "cells": [
  {
   "cell_type": "markdown",
   "metadata": {},
   "source": [
    "# Plotting with Seaborn\n",
    "\n",
    "Most plotting in Python is done with `matplotbib`. Great library, very versatile, and a large variety of plots. Unfortunately, it takes often many lines of codes to make a plot of production quality.\n",
    "\n",
    "Apart from using `matplotlib` directly, we can use either `pandas` - and we have done that: `df['column'].hist()` - or `seaborn`.\n",
    "\n",
    "`Seaborn` is not as quite as versatile, but the most common plots types are available, and the result is already of high quality. Moreover, as `seaborn` is build on top of `matplotlib` you can use `matplotlib` commands to enhance `seaborn` plots. "
   ]
  },
  {
   "cell_type": "code",
   "execution_count": 2,
   "metadata": {},
   "outputs": [],
   "source": [
    "import pandas as pd\n",
    "import seaborn as sns\n",
    "import matplotlib.pyplot as plt\n",
    "%matplotlib inline"
   ]
  },
  {
   "cell_type": "markdown",
   "metadata": {},
   "source": [
    "Public data from the annual CDC Behavioral Risk Factor Surveillance System (BRFSS) telephone survey. The full data has 200+ columns, here are only four. [BRFSS](https://www.cdc.gov/brfss/index.html)"
   ]
  },
  {
   "cell_type": "code",
   "execution_count": 3,
   "metadata": {},
   "outputs": [
    {
     "data": {
      "text/html": [
       "<div>\n",
       "<style scoped>\n",
       "    .dataframe tbody tr th:only-of-type {\n",
       "        vertical-align: middle;\n",
       "    }\n",
       "\n",
       "    .dataframe tbody tr th {\n",
       "        vertical-align: top;\n",
       "    }\n",
       "\n",
       "    .dataframe thead th {\n",
       "        text-align: right;\n",
       "    }\n",
       "</style>\n",
       "<table border=\"1\" class=\"dataframe\">\n",
       "  <thead>\n",
       "    <tr style=\"text-align: right;\">\n",
       "      <th></th>\n",
       "      <th>age</th>\n",
       "      <th>sex</th>\n",
       "      <th>wght_kg</th>\n",
       "      <th>hght_cm</th>\n",
       "      <th>z-hght</th>\n",
       "      <th>z-wght</th>\n",
       "    </tr>\n",
       "  </thead>\n",
       "  <tbody>\n",
       "    <tr>\n",
       "      <th>count</th>\n",
       "      <td>410856.000000</td>\n",
       "      <td>414509.000000</td>\n",
       "      <td>398484.000000</td>\n",
       "      <td>409129.000000</td>\n",
       "      <td>4.091290e+05</td>\n",
       "      <td>3.984840e+05</td>\n",
       "    </tr>\n",
       "    <tr>\n",
       "      <th>mean</th>\n",
       "      <td>54.862180</td>\n",
       "      <td>1.624368</td>\n",
       "      <td>78.992453</td>\n",
       "      <td>168.825190</td>\n",
       "      <td>1.537787e-15</td>\n",
       "      <td>-7.190968e-13</td>\n",
       "    </tr>\n",
       "    <tr>\n",
       "      <th>std</th>\n",
       "      <td>16.737702</td>\n",
       "      <td>0.484286</td>\n",
       "      <td>19.546157</td>\n",
       "      <td>10.352653</td>\n",
       "      <td>1.000000e+00</td>\n",
       "      <td>1.000000e+00</td>\n",
       "    </tr>\n",
       "    <tr>\n",
       "      <th>min</th>\n",
       "      <td>18.000000</td>\n",
       "      <td>1.000000</td>\n",
       "      <td>20.000000</td>\n",
       "      <td>61.000000</td>\n",
       "      <td>-1.041522e+01</td>\n",
       "      <td>-3.018110e+00</td>\n",
       "    </tr>\n",
       "    <tr>\n",
       "      <th>25%</th>\n",
       "      <td>43.000000</td>\n",
       "      <td>1.000000</td>\n",
       "      <td>64.550000</td>\n",
       "      <td>160.000000</td>\n",
       "      <td>-8.524568e-01</td>\n",
       "      <td>-7.388896e-01</td>\n",
       "    </tr>\n",
       "    <tr>\n",
       "      <th>50%</th>\n",
       "      <td>55.000000</td>\n",
       "      <td>2.000000</td>\n",
       "      <td>77.270000</td>\n",
       "      <td>168.000000</td>\n",
       "      <td>-7.970803e-02</td>\n",
       "      <td>-8.812234e-02</td>\n",
       "    </tr>\n",
       "    <tr>\n",
       "      <th>75%</th>\n",
       "      <td>67.000000</td>\n",
       "      <td>2.000000</td>\n",
       "      <td>90.910000</td>\n",
       "      <td>175.000000</td>\n",
       "      <td>5.964472e-01</td>\n",
       "      <td>6.097131e-01</td>\n",
       "    </tr>\n",
       "    <tr>\n",
       "      <th>max</th>\n",
       "      <td>99.000000</td>\n",
       "      <td>2.000000</td>\n",
       "      <td>309.090000</td>\n",
       "      <td>236.000000</td>\n",
       "      <td>6.488657e+00</td>\n",
       "      <td>1.177201e+01</td>\n",
       "    </tr>\n",
       "  </tbody>\n",
       "</table>\n",
       "</div>"
      ],
      "text/plain": [
       "                 age            sex        wght_kg        hght_cm  \\\n",
       "count  410856.000000  414509.000000  398484.000000  409129.000000   \n",
       "mean       54.862180       1.624368      78.992453     168.825190   \n",
       "std        16.737702       0.484286      19.546157      10.352653   \n",
       "min        18.000000       1.000000      20.000000      61.000000   \n",
       "25%        43.000000       1.000000      64.550000     160.000000   \n",
       "50%        55.000000       2.000000      77.270000     168.000000   \n",
       "75%        67.000000       2.000000      90.910000     175.000000   \n",
       "max        99.000000       2.000000     309.090000     236.000000   \n",
       "\n",
       "             z-hght        z-wght  \n",
       "count  4.091290e+05  3.984840e+05  \n",
       "mean   1.537787e-15 -7.190968e-13  \n",
       "std    1.000000e+00  1.000000e+00  \n",
       "min   -1.041522e+01 -3.018110e+00  \n",
       "25%   -8.524568e-01 -7.388896e-01  \n",
       "50%   -7.970803e-02 -8.812234e-02  \n",
       "75%    5.964472e-01  6.097131e-01  \n",
       "max    6.488657e+00  1.177201e+01  "
      ]
     },
     "execution_count": 3,
     "metadata": {},
     "output_type": "execute_result"
    }
   ],
   "source": [
    "df = pd.read_csv('BRFSS.csv')\n",
    "df['z-hght']=(df['hght_cm']-df['hght_cm'].mean())/df['hght_cm'].std()\n",
    "df['z-wght']=(df['wght_kg']-df['wght_kg'].mean())/df['wght_kg'].std()\n",
    "df.describe()"
   ]
  },
  {
   "cell_type": "markdown",
   "metadata": {},
   "source": [
    "A box-plot. The box represents the interquartile range. Outliers are defined by 1.5-times-IQR from the quartiles, and the whiskers extend from the minimum to the maximum of the non-outlier points.\n",
    "\n",
    "### Task\n",
    "\n",
    "Characterize the datasets from the boxplots."
   ]
  },
  {
   "cell_type": "code",
   "execution_count": 4,
   "metadata": {},
   "outputs": [
    {
     "data": {
      "text/plain": [
       "<AxesSubplot:>"
      ]
     },
     "execution_count": 4,
     "metadata": {},
     "output_type": "execute_result"
    },
    {
     "data": {
      "image/png": "[encoded data removed]",
      "text/plain": [
       "<Figure size 432x288 with 1 Axes>"
      ]
     },
     "metadata": {
      "needs_background": "light"
     },
     "output_type": "display_data"
    }
   ],
   "source": [
    "sns.boxplot(data=df[['wght_kg','hght_cm']])"
   ]
  },
  {
   "cell_type": "code",
   "execution_count": 5,
   "metadata": {},
   "outputs": [
    {
     "data": {
      "text/plain": [
       "<AxesSubplot:xlabel='wght_kg', ylabel='Count'>"
      ]
     },
     "execution_count": 5,
     "metadata": {},
     "output_type": "execute_result"
    },
    {
     "data": {
      "image/png": "[encoded data removed]",
      "text/plain": [
       "<Figure size 432x288 with 1 Axes>"
      ]
     },
     "metadata": {
      "needs_background": "light"
     },
     "output_type": "display_data"
    }
   ],
   "source": [
    "# Seaborn makes nice histograms\n",
    "sns.histplot(data=df['wght_kg'], bins=61)"
   ]
  },
  {
   "cell_type": "markdown",
   "metadata": {},
   "source": [
    "Try changing `stat='count'` to\n",
    "* stat='frequency'\n",
    "* stat='probability'\n",
    "* stat='percent'\n",
    "* stat='density'"
   ]
  },
  {
   "cell_type": "code",
   "execution_count": 6,
   "metadata": {},
   "outputs": [
    {
     "data": {
      "text/plain": [
       "<AxesSubplot:xlabel='hght_cm', ylabel='Count'>"
      ]
     },
     "execution_count": 6,
     "metadata": {},
     "output_type": "execute_result"
    },
    {
     "data": {
      "image/png": "[encoded data removed]",
      "text/plain": [
       "<Figure size 432x288 with 1 Axes>"
      ]
     },
     "metadata": {
      "needs_background": "light"
     },
     "output_type": "display_data"
    }
   ],
   "source": [
    "sns.histplot(data=df['hght_cm'], stat='count', bins=61, color='orange')"
   ]
  },
  {
   "cell_type": "markdown",
   "metadata": {},
   "source": [
    "You can think of a *probability density function* (PDF) as a smoothed version of the density-histogram. One idealized model you may be familar with is the normal or Gaussian distrubution or bell-curve. With `seaborn` we can create and plot a smooth curve from data: `kdeplot`, where `kde` stands for *kernal density function* an empirical PDF approximated from data."
   ]
  },
  {
   "cell_type": "code",
   "execution_count": 7,
   "metadata": {},
   "outputs": [
    {
     "data": {
      "text/plain": [
       "<matplotlib.legend.Legend at 0x7f276e9803a0>"
      ]
     },
     "execution_count": 7,
     "metadata": {},
     "output_type": "execute_result"
    },
    {
     "data": {
      "image/png": "[encoded data removed]",
      "text/plain": [
       "<Figure size 432x288 with 1 Axes>"
      ]
     },
     "metadata": {
      "needs_background": "light"
     },
     "output_type": "display_data"
    }
   ],
   "source": [
    "sns.histplot(data=df['wght_kg'], stat='density', color='royalblue', \n",
    "             label='density histogram', bins=101)\n",
    "sns.kdeplot(data=df['wght_kg'], color='black', label='PDF')\n",
    "plt.legend()"
   ]
  },
  {
   "cell_type": "markdown",
   "metadata": {},
   "source": [
    "Now we can plot the heights and weights in a single plot without too much clutter."
   ]
  },
  {
   "cell_type": "code",
   "execution_count": null,
   "metadata": {},
   "outputs": [],
   "source": [
    "sns.kdeplot(data=df['hght_cm'], color='orange', label='height')\n",
    "sns.kdeplot(data=df['wght_kg'], color='blue', label='weight')\n",
    "plt.legend()"
   ]
  },
  {
   "cell_type": "markdown",
   "metadata": {},
   "source": [
    "In this plot the data share a common $y$-axes, density, which means the PDF integrates to $1$, or $100$%. But because the $x$-axis are different, a comparison is not straightforward. This is where the $z$-scores come in. By switching to $z$scores all data share a common $x$-axes. "
   ]
  },
  {
   "cell_type": "code",
   "execution_count": 8,
   "metadata": {},
   "outputs": [
    {
     "data": {
      "text/plain": [
       "<matplotlib.legend.Legend at 0x7f2770a1e5b0>"
      ]
     },
     "execution_count": 8,
     "metadata": {},
     "output_type": "execute_result"
    },
    {
     "data": {
      "image/png": "[encoded data removed]",
      "text/plain": [
       "<Figure size 432x288 with 1 Axes>"
      ]
     },
     "metadata": {
      "needs_background": "light"
     },
     "output_type": "display_data"
    }
   ],
   "source": [
    "sns.kdeplot(data=df['z-hght'], color='orange', label='height')\n",
    "sns.kdeplot(data=df['z-wght'], color='blue', label='weight')\n",
    "plt.xlim(-5,5) # -5 to 5 standard deviations\n",
    "plt.xlabel('z-score')\n",
    "plt.legend()"
   ]
  },
  {
   "cell_type": "code",
   "execution_count": null,
   "metadata": {},
   "outputs": [],
   "source": []
  }
 ],
 "metadata": {
  "kernelspec": {
   "display_name": "Python 3 (ipykernel)",
   "language": "python",
   "name": "python3"
  },
  "language_info": {
   "codemirror_mode": {
    "name": "ipython",
    "version": 3
   },
   "file_extension": ".py",
   "mimetype": "text/x-python",
   "name": "python",
   "nbconvert_exporter": "python",
   "pygments_lexer": "ipython3",
   "version": "3.9.7"
  }
 },
 "nbformat": 4,
 "nbformat_minor": 4
}
