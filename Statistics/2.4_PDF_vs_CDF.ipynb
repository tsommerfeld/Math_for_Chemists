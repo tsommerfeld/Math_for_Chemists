{
 "cells": [
  {
   "cell_type": "markdown",
   "metadata": {},
   "source": [
    "# PMF, PDF, CDF"
   ]
  },
  {
   "cell_type": "code",
   "execution_count": null,
   "metadata": {},
   "outputs": [],
   "source": [
    "import pandas as pd\n",
    "import seaborn as sns\n",
    "import matplotlib.pyplot as plt\n",
    "#\n",
    "# Uncomment the following lines for floating plot windows\n",
    "# import matplotlib\n",
    "# matplotlib.use('Qt5Agg')\n",
    "# %matplotlib qt5"
   ]
  },
  {
   "cell_type": "markdown",
   "metadata": {},
   "source": [
    "Unknown-Course-Exam-Grades: All exam grades from some hypothetical course at some imaginary university. "
   ]
  },
  {
   "cell_type": "code",
   "execution_count": null,
   "metadata": {},
   "outputs": [],
   "source": [
    "df = pd.read_csv('UCEG.csv')\n",
    "df.describe()"
   ]
  },
  {
   "cell_type": "code",
   "execution_count": null,
   "metadata": {},
   "outputs": [],
   "source": [
    "sns.histplot(data=df['grade'], bins=21)"
   ]
  },
  {
   "cell_type": "markdown",
   "metadata": {},
   "source": [
    "## Task \n",
    "\n",
    "Investigate how the histogram changes depending on the number of bins chosen. \n",
    "* How many bins would you use as a student arguing that the professor is too strict?\n",
    "* How many bins would you use to argue the counterpoint?"
   ]
  },
  {
   "cell_type": "markdown",
   "metadata": {},
   "source": [
    "## Changing the $y$-axis\n",
    "\n",
    "Above, we used raw counts, that is, number of grades is a bin, as the unit for the $y$-axis. To make this independent of class size and number of exams per course, we need to convert to percentages or probability. Compare the following plots:  \n",
    "\n",
    "* stat='count'count: show the number of observations in each bin.\n",
    "* stat='frequency': show the number of observations divided by the bin width.\n",
    "* stat='probability': normalize such that bar heights sum to 1.\n",
    "* stat='percent': normalize such that bar heights sum to 100.\n",
    "* stat='density': normalize such that the total area of the histogram equals 1."
   ]
  },
  {
   "cell_type": "code",
   "execution_count": null,
   "metadata": {},
   "outputs": [],
   "source": [
    "sns.histplot(data=df['grade'], stat='count', bins=21)"
   ]
  },
  {
   "cell_type": "markdown",
   "metadata": {},
   "source": [
    "## Task\n",
    "\n",
    "Which is most useful for figuring out the portion of students in a certain grade range?"
   ]
  },
  {
   "cell_type": "markdown",
   "metadata": {},
   "source": [
    "# PMF and PDF\n",
    "\n",
    "* PMF = Probability mass function.\n",
    "* PDF = Probability density function.\n",
    "\n",
    "Okay, we have some variable, let's call it $X$. Capital $X$ indicates that $X$ is *random* in some sense, it may be data, but it may also be a stastic. Make sure you understand this distinction.\n",
    "\n",
    "The difference between PMF and PDF has to do with random variables that can take only *discreet* values (PMF) as oposed to *continuous* values (PDF).\n",
    "* Discreet: A certain set of numbers, often counts. The number of cars in a parking lot at a certain time or the citizens in a town must be whole = discrete numbers. You cannot have 0.3 citizens.\n",
    "* Continuous: A variable measured on a continous scale: weight, height, ...\n",
    "\n",
    "First, *discrete* $X$: A PMF is the function that gives the probability that my  discrete random variable $X$ is exactly equal to some value. Say, $X$: Number of children of a US citizen, then PMF(1) = probability that a US citizen has one child.\n",
    "\n",
    "Note, the total probability must equal $1$. So if I sum the PMF over all possible values of $X$, I must get $1$.\n",
    "\n",
    "Second, *continuous* $X$: A wee bit more tricky. Consider a huge population, say, the heights of everyone living in in the US, $330,000,000$ $X$ values. Strictly speaking all these $X$ values are different - you just have to measure enough significant figures. Therefore, all of the $330,000,000$ values have the same probability of $P=1/300,000,000$ and any other  value has probability $0$.  \n",
    "\n",
    "However, that is ***not*** what we want. We want a function that interpolates a histogram with many, but not too many bins, a function that has the same shape as a reasonably fine histogram, but is continuous. This function is the PDF.\n",
    "\n",
    "One caveat: A PDF cannot represent probability - probability is not defined at any specific $X$ value. Instead it represents ***probability density***, which means a PDF must be integrated over a certain range to compute probability. If you look at a PDF, you do that automatically by-eye: You look at area of a hump or of a tail, not at the specific values at certain points.\n",
    "\n",
    "Again, note, the total probability must equal $1$. So if I integrate the PDF over all possible values of $X$, I must get $1$. Almost the same sentence as for the PMF. Make sure you understand the difference.\n",
    "\n",
    "### Approximate PDF from `seaborn`"
   ]
  },
  {
   "cell_type": "code",
   "execution_count": null,
   "metadata": {},
   "outputs": [],
   "source": [
    "sns.kdeplot(data=df['grade'])"
   ]
  },
  {
   "cell_type": "markdown",
   "metadata": {},
   "source": [
    "# CDF\n",
    "\n",
    "First a convention used in statistics: $X$ is the random variable as such and $x$ is a particular value $X$ can take. So $X$ may be weight of a person, and $x$ may be $171$ lb. \n",
    "\n",
    "Now I can define a CDF: A CDF of a random variable $X$, evaluated at $x$ is the probability that $X$ will take a value less than or equal to $x$. Can we get that shorter please? Sure: CDF($x$) is the probability that $X \\le x$.\n",
    "\n",
    "CDFs come in a couple of flavours. Any discreet distribution or histogram can be turned into a step-wise CDF.  "
   ]
  },
  {
   "cell_type": "code",
   "execution_count": null,
   "metadata": {},
   "outputs": [],
   "source": [
    "sns.histplot(data=df['grade'], stat='density', \n",
    "             cumulative=True, bins=21)\n",
    "plt.ylabel('CDF')"
   ]
  },
  {
   "cell_type": "markdown",
   "metadata": {},
   "source": [
    "Note, total probability must equal $1$, so a CDF must approach $1$, and in contrast to a PDF, a CDF can be directly associated with probability. Still, most people find PDFs visiually more apealing and intuative. As I said, the eye integrates.\n",
    "\n",
    "Of course, we want a smoothed interpolated CDF.\n",
    "* `seaborn` can do this to some extent.\n",
    "* The scientific python library (`scipy`) has much more powerful methods.\n",
    "* Sometimes we may want to fit our data to a model distrubution such as a Gaussian (a bellcurve)."
   ]
  },
  {
   "cell_type": "code",
   "execution_count": null,
   "metadata": {},
   "outputs": [],
   "source": [
    "sns.ecdfplot(data=df['grade'])"
   ]
  },
  {
   "cell_type": "code",
   "execution_count": null,
   "metadata": {},
   "outputs": [],
   "source": []
  }
 ],
 "metadata": {
  "kernelspec": {
   "display_name": "Python 3 (ipykernel)",
   "language": "python",
   "name": "python3"
  },
  "language_info": {
   "codemirror_mode": {
    "name": "ipython",
    "version": 3
   },
   "file_extension": ".py",
   "mimetype": "text/x-python",
   "name": "python",
   "nbconvert_exporter": "python",
   "pygments_lexer": "ipython3",
   "version": "3.8.12"
  }
 },
 "nbformat": 4,
 "nbformat_minor": 4
}
