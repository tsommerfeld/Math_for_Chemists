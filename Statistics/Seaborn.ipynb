{
 "cells": [
  {
   "cell_type": "markdown",
   "metadata": {},
   "source": [
    "# 2 Descriptive Stats\n",
    "\n",
    "* Load some data.\n",
    "* Plot to get an overview.\n",
    "* Compute some descriptive statistics."
   ]
  },
  {
   "cell_type": "code",
   "execution_count": null,
   "metadata": {},
   "outputs": [],
   "source": [
    "import pandas as pd\n",
    "import matplotlib.pyplot as plt\n",
    "#\n",
    "# Uncomment the following lines for floating plot windows\n",
    "# import matplotlib\n",
    "# matplotlib.use('Qt5Agg')\n",
    "# %matplotlib qt5"
   ]
  },
  {
   "cell_type": "markdown",
   "metadata": {},
   "source": [
    "Public data from the annual CDC Behavioral Risk Factor Surveillance System (BRFSS) telephone survey. The full data has 200+ columns, here are only four. [BRFSS](https://www.cdc.gov/brfss/index.html)"
   ]
  },
  {
   "cell_type": "code",
   "execution_count": null,
   "metadata": {},
   "outputs": [],
   "source": [
    "df = pd.read_csv('BRFSS.csv')\n",
    "df"
   ]
  },
  {
   "cell_type": "markdown",
   "metadata": {},
   "source": [
    "Let's consider the heights. To get an overview, let's make a histogram. If you pay attention, this is a slightly different way to make a histogram than we used in the last notebook. The reason is that this way is more flexible. On the other hand, if you want title, axis labels, etc ..., you have to use matplotlib syntax."
   ]
  },
  {
   "cell_type": "code",
   "execution_count": null,
   "metadata": {},
   "outputs": [],
   "source": [
    "df['hght_cm'].hist()"
   ]
  },
  {
   "cell_type": "markdown",
   "metadata": {},
   "source": [
    "Maybe a few more bins and a relative frequency histogram?\n",
    "\n",
    "By the way, a relative frequency histogram models a **density distribution function**. "
   ]
  },
  {
   "cell_type": "code",
   "execution_count": null,
   "metadata": {},
   "outputs": [],
   "source": [
    "df['hght_cm'].hist(bins=50, density=True)"
   ]
  },
  {
   "cell_type": "markdown",
   "metadata": {},
   "source": [
    "### Task\n",
    "\n",
    "From my or a modified histogram,\n",
    "* estimate the average.\n",
    "* estimate the median.\n",
    "* estimate the standard deviation."
   ]
  },
  {
   "cell_type": "markdown",
   "metadata": {},
   "source": [
    "Okay, let's use pandas to find all these statistics:"
   ]
  },
  {
   "cell_type": "code",
   "execution_count": null,
   "metadata": {},
   "outputs": [],
   "source": [
    "df['hght_cm'].mean()"
   ]
  },
  {
   "cell_type": "code",
   "execution_count": null,
   "metadata": {},
   "outputs": [],
   "source": [
    "df['hght_cm'].mode()"
   ]
  },
  {
   "cell_type": "code",
   "execution_count": null,
   "metadata": {},
   "outputs": [],
   "source": [
    "df['hght_cm'].std()"
   ]
  },
  {
   "cell_type": "code",
   "execution_count": null,
   "metadata": {},
   "outputs": [],
   "source": [
    "## 77-percenile\n",
    "df['hght_cm'].quantile(0.77)"
   ]
  },
  {
   "cell_type": "markdown",
   "metadata": {},
   "source": [
    "An overview of all numeric columns:"
   ]
  },
  {
   "cell_type": "code",
   "execution_count": null,
   "metadata": {},
   "outputs": [],
   "source": [
    "df.describe()"
   ]
  },
  {
   "cell_type": "code",
   "execution_count": null,
   "metadata": {},
   "outputs": [],
   "source": [
    "#df[(df['wght_kg']<21.0)]\n",
    "#df[(df['hght_cm']<62.0)]"
   ]
  },
  {
   "cell_type": "markdown",
   "metadata": {},
   "source": [
    "## Tasks\n",
    "\n",
    "* Analyze the weights.\n",
    "* Convert the metric columns to British impirical: `df['hght_in]'=df['hght_cm']*...` and repeat the analysis.\n",
    "* Repeat the analysis with data from males or females only: \n",
    "  * `pattern=(df['sex']=='?')`\n",
    "  * `df2=df[pattern]`"
   ]
  },
  {
   "cell_type": "markdown",
   "metadata": {},
   "source": [
    "## z-scores\n",
    "\n",
    "$z=\\frac{x-\\mu}{\\sigma}$\n",
    "\n",
    "Assigns to each $x$ its deviation from the mean $\\mu$ in units of the standard deviation $\\sigma$."
   ]
  },
  {
   "cell_type": "code",
   "execution_count": null,
   "metadata": {},
   "outputs": [],
   "source": [
    "df['z-hght']=(df['hght_cm']-df['hght_cm'].mean())/df['hght_cm'].std()\n",
    "df.describe()"
   ]
  },
  {
   "cell_type": "code",
   "execution_count": null,
   "metadata": {},
   "outputs": [],
   "source": [
    "df['z-hght'].hist(bins=50, density=True)\n",
    "# after plotting, uncomment the next line and replot\n",
    "# plt.xlim(-4,4)   "
   ]
  },
  {
   "cell_type": "markdown",
   "metadata": {},
   "source": [
    "## Empirical rule and Chebyshev's theorem\n",
    "\n",
    "This is a bit more tricky. Computing percentile rank for each element in  a column is easy, but scrolling around in 400,000 rows is not.\n",
    "\n",
    "So let's rather use a trick and find the number of elements by pattern matching. For example, to find the data within one standard deviation, we need everything with z-scores between $-1$ and $1$, right?"
   ]
  },
  {
   "cell_type": "code",
   "execution_count": null,
   "metadata": {},
   "outputs": [],
   "source": [
    "# the blanks in the pattern are for readablity only\n",
    "pattern=( (df['z-hght']>=-1) & (df['z-hght']<=1) )\n",
    "df[pattern].describe()"
   ]
  },
  {
   "cell_type": "code",
   "execution_count": null,
   "metadata": {},
   "outputs": [],
   "source": [
    "# number of heights in the dataset\n",
    "df['z-hght'].count()"
   ]
  },
  {
   "cell_type": "code",
   "execution_count": null,
   "metadata": {},
   "outputs": [],
   "source": [
    "# number of heights within one standard deviation\n",
    "df[pattern]['z-hght'].count()"
   ]
  },
  {
   "cell_type": "code",
   "execution_count": null,
   "metadata": {},
   "outputs": [],
   "source": [
    "# ratio as a percentage\n",
    "df[pattern]['z-hght'].count() / df['z-hght'].count() * 100"
   ]
  },
  {
   "cell_type": "markdown",
   "metadata": {},
   "source": [
    "## Tasks\n",
    "\n",
    "* Check the percentages with one and two standard deviations for the heights and the weights.\n",
    "* Are these datasets close to Gaussian or rather general distributions?\n",
    "* What about single-gender sets?"
   ]
  },
  {
   "cell_type": "code",
   "execution_count": null,
   "metadata": {},
   "outputs": [],
   "source": []
  }
 ],
 "metadata": {
  "kernelspec": {
   "display_name": "Python 3 (ipykernel)",
   "language": "python",
   "name": "python3"
  },
  "language_info": {
   "codemirror_mode": {
    "name": "ipython",
    "version": 3
   },
   "file_extension": ".py",
   "mimetype": "text/x-python",
   "name": "python",
   "nbconvert_exporter": "python",
   "pygments_lexer": "ipython3",
   "version": "3.8.12"
  }
 },
 "nbformat": 4,
 "nbformat_minor": 4
}
