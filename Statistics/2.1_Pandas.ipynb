{
 "cells": [
  {
   "cell_type": "markdown",
   "metadata": {},
   "source": [
    "# 1 Pandas and Plotting\n",
    "\n",
    "Pandas is a Python library with fairly advanced spreadsheet-like methods. This notebook explores some basic syntax.\n",
    "\n",
    "This `import` command below enables us to use `pandas`, which is is not included in standard Python, and the `as pd` part means we don't have to type `pandas`, but rather `pd` when referring to a command from the `pandas` library."
   ]
  },
  {
   "cell_type": "code",
   "execution_count": null,
   "metadata": {},
   "outputs": [],
   "source": [
    "import pandas as pd"
   ]
  },
  {
   "cell_type": "markdown",
   "metadata": {},
   "source": [
    "Read data from a csv-file into a `pandas` data frame. (Yes there is a corresponding command for .xlsx files.) You can see: To call a `pandas` function, we use the `pd.` \"pd-dot\" notation.\n",
    "\n",
    "Each data frame works exactly like a \"tab\" in Excel or Google-sheets. In other words, a data frame is a two-dimensional row-column data structure. "
   ]
  },
  {
   "cell_type": "code",
   "execution_count": null,
   "metadata": {},
   "outputs": [],
   "source": [
    "df = pd.read_csv('AU_COURSE_LIST.csv')\n",
    "df"
   ]
  },
  {
   "cell_type": "markdown",
   "metadata": {},
   "source": [
    "If you think about it, using individual \"cells\" or blocks of \"cells\" is rarely needed. Most often we need to manipulate a whole column: "
   ]
  },
  {
   "cell_type": "code",
   "execution_count": null,
   "metadata": {},
   "outputs": [],
   "source": [
    "df['Subject']"
   ]
  },
  {
   "cell_type": "markdown",
   "metadata": {},
   "source": [
    "But we can get individual \"cells\" using the '.loc': `df.loc[row,column]`. Here`column` is the column name and `row` is normally the row index, but it may be the row name - provided that exists."
   ]
  },
  {
   "cell_type": "code",
   "execution_count": null,
   "metadata": {},
   "outputs": [],
   "source": [
    "df.loc[1,\"Subject\"]"
   ]
  },
  {
   "cell_type": "markdown",
   "metadata": {},
   "source": [
    "Of course, we can get a row, too."
   ]
  },
  {
   "cell_type": "code",
   "execution_count": null,
   "metadata": {},
   "outputs": [],
   "source": [
    "df.loc[1]"
   ]
  },
  {
   "cell_type": "markdown",
   "metadata": {},
   "source": [
    "Much more interesting: Defining patterns and filtering out all matching rows."
   ]
  },
  {
   "cell_type": "code",
   "execution_count": null,
   "metadata": {},
   "outputs": [],
   "source": [
    "pattern=(df['Subject']=='CRKT')\n",
    "df[pattern]"
   ]
  },
  {
   "cell_type": "markdown",
   "metadata": {},
   "source": [
    "### Task\n",
    "Modify the box above to find\n",
    "* all sword-classes: 'SWRD'.\n",
    "* all classes offered in the disciplne 'Fencing'."
   ]
  },
  {
   "cell_type": "markdown",
   "metadata": {},
   "source": [
    "## Let's investigate enrollment in AU university\n",
    "\n",
    "That means we deal with the column: `df['Tot Enrl']`.\n",
    "We can plot:\n",
    "* The raw data.\n",
    "* Histograms of the raw data.\n",
    "* The cumulative distribution function of the raw data.\n",
    "* A bar graph showing how often each enrollment value appears: `value-counts`.\n",
    "\n",
    "***If you use floating plots, close each plot before executing the next cell.*** "
   ]
  },
  {
   "cell_type": "code",
   "execution_count": null,
   "metadata": {},
   "outputs": [],
   "source": [
    "# by default each bar has a label, let's suppress that in this plot \n",
    "df['Tot Enrl'].plot.bar(xticks=[], title='Raw enrollment unsorted list')"
   ]
  },
  {
   "cell_type": "markdown",
   "metadata": {},
   "source": [
    "There is more than one way to skin a cat, and there are at least four good ways to draw histograms. The `df[].hist()` is nice because is works with the DataFrame, but still communicates with matplotlib rather directly."
   ]
  },
  {
   "cell_type": "code",
   "execution_count": null,
   "metadata": {},
   "outputs": [],
   "source": [
    "#df['Tot Enrl'].plot.hist(title='default histogram')\n",
    "df['Tot Enrl'].hist()"
   ]
  },
  {
   "cell_type": "markdown",
   "metadata": {},
   "source": [
    "A plain vanilla histogram."
   ]
  },
  {
   "cell_type": "code",
   "execution_count": null,
   "metadata": {},
   "outputs": [],
   "source": [
    "df['Tot Enrl'].hist(bins=51)"
   ]
  },
  {
   "cell_type": "markdown",
   "metadata": {},
   "source": [
    "A histogram that shows the probability of each bin, that is, the bins sum to $1$."
   ]
  },
  {
   "cell_type": "code",
   "execution_count": null,
   "metadata": {},
   "outputs": [],
   "source": [
    "df['Tot Enrl'].hist(bins=51, density=1)"
   ]
  },
  {
   "cell_type": "markdown",
   "metadata": {},
   "source": [
    "Sum the probabilities of all bins below to obtain the cummulative distribution function (CDF). Study this plot carefully. Make sure you understand why it starts at $0$ and ends $1$."
   ]
  },
  {
   "cell_type": "code",
   "execution_count": null,
   "metadata": {},
   "outputs": [],
   "source": [
    "#df['Tot Enrl'].plot.hist(bins=51, cumulative=True, density=1, title='cummulative distribution function')\n",
    "df['Tot Enrl'].hist(bins=51, cumulative=True, density=1)"
   ]
  },
  {
   "cell_type": "code",
   "execution_count": null,
   "metadata": {},
   "outputs": [],
   "source": [
    "#\n",
    "# Value counts: Maximum-resultion histogram or bar-graph.\n",
    "#\n",
    "#\n",
    "# This counts how often certain values show up in a column \n",
    "# and sorts the values by frequency\n",
    "#\n",
    "df['Tot Enrl'].value_counts()"
   ]
  },
  {
   "cell_type": "code",
   "execution_count": null,
   "metadata": {},
   "outputs": [],
   "source": [
    "# Sorting it by value = enrollment is slightly more tricky.\n",
    "#\n",
    "counts_by_freq = df['Tot Enrl'].value_counts()\n",
    "counts_by_value = counts_by_freq.sort_index()\n",
    "counts_by_value"
   ]
  },
  {
   "cell_type": "code",
   "execution_count": null,
   "metadata": {},
   "outputs": [],
   "source": [
    "counts_by_value.plot.bar(xticks=[10,20,30,40,50,60,70,80,90], \n",
    "                         xlabel='Enrollment', ylabel='Number of classes')"
   ]
  },
  {
   "cell_type": "markdown",
   "metadata": {},
   "source": [
    "### Task\n",
    "\n",
    "For each of the five plots:\n",
    "* Write a brief desciption: What specifically does this plot show?\n",
    "* Does the plot have a clear message or at least important highlights?\n",
    "* Make a bar graph of the `Cap Enrl` column. What do this column and plot communicate?\n",
    "* Define histogram, PMF, and CDF with words and with formulas."
   ]
  },
  {
   "cell_type": "code",
   "execution_count": null,
   "metadata": {},
   "outputs": [],
   "source": []
  }
 ],
 "metadata": {
  "kernelspec": {
   "display_name": "Python 3 (ipykernel)",
   "language": "python",
   "name": "python3"
  },
  "language_info": {
   "codemirror_mode": {
    "name": "ipython",
    "version": 3
   },
   "file_extension": ".py",
   "mimetype": "text/x-python",
   "name": "python",
   "nbconvert_exporter": "python",
   "pygments_lexer": "ipython3",
   "version": "3.8.12"
  }
 },
 "nbformat": 4,
 "nbformat_minor": 4
}
