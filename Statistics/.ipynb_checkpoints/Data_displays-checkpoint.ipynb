{
 "cells": [
  {
   "cell_type": "markdown",
   "metadata": {},
   "source": [
    "# 1 Pandas and Plotting\n",
    "\n",
    "Pandas is a Python library with fairly advanced spreadsheet-like methods. This notebook explores some basic syntax."
   ]
  },
  {
   "cell_type": "code",
   "execution_count": null,
   "metadata": {},
   "outputs": [],
   "source": [
    "import pandas as pd"
   ]
  },
  {
   "cell_type": "markdown",
   "metadata": {},
   "source": [
    "Read data from a speadsheet-file into a `pandas` data frame (.csv or .xlsx). Each data frame works exactly like a \"tab\" in Excel or Google-sheets. In other words, a data frame is a two-dimensional row-column data structure. "
   ]
  },
  {
   "cell_type": "code",
   "execution_count": null,
   "metadata": {},
   "outputs": [],
   "source": [
    "df = pd.read_csv('AU_COURSE_LIST.csv')\n",
    "df"
   ]
  },
  {
   "cell_type": "markdown",
   "metadata": {},
   "source": [
    "If you think about it, using individual \"cells\" or blocks of \"cells\" is rarely needed. Most often we need to manipulate a whole column: "
   ]
  },
  {
   "cell_type": "code",
   "execution_count": null,
   "metadata": {},
   "outputs": [],
   "source": [
    "df['Subject']"
   ]
  },
  {
   "cell_type": "markdown",
   "metadata": {},
   "source": [
    "But we can get individual \"cells\" using the '.loc': `df.loc[row,column]`. Here`column` is the column name and `row` is normally the row index, but it may be the row name - provided that exists."
   ]
  },
  {
   "cell_type": "code",
   "execution_count": null,
   "metadata": {},
   "outputs": [],
   "source": [
    "df.loc[1,\"Subject\"]"
   ]
  },
  {
   "cell_type": "markdown",
   "metadata": {},
   "source": [
    "Of course, we can get a row, too."
   ]
  },
  {
   "cell_type": "code",
   "execution_count": null,
   "metadata": {},
   "outputs": [],
   "source": [
    "df.loc[1]"
   ]
  },
  {
   "cell_type": "markdown",
   "metadata": {},
   "source": [
    "Much more interesting: Defining patterns and filtering out all matching rows."
   ]
  },
  {
   "cell_type": "code",
   "execution_count": null,
   "metadata": {},
   "outputs": [],
   "source": [
    "pattern=(df['Subject']=='CRKT')\n",
    "df[pattern]"
   ]
  },
  {
   "cell_type": "markdown",
   "metadata": {},
   "source": [
    "### Task\n",
    "Modify the box above to find\n",
    "* all sword-classes: 'SWRD'.\n",
    "* all classes offered in the disciplne 'Fencing'."
   ]
  },
  {
   "cell_type": "markdown",
   "metadata": {},
   "source": [
    "## Let's investigate enrollment in AU university\n",
    "\n",
    "We can plot\n",
    "* The raw data.\n",
    "* Histograms of the raw data.\n",
    "* The cumulative distribution function of the raw data.\n",
    "* A bar graph showing how often each enrollment value appears: `value-counts`."
   ]
  },
  {
   "cell_type": "code",
   "execution_count": null,
   "metadata": {},
   "outputs": [],
   "source": [
    "# Get the value count:\n",
    "df['Tot Enrl'].value_counts()"
   ]
  },
  {
   "cell_type": "code",
   "execution_count": null,
   "metadata": {},
   "outputs": [],
   "source": [
    "# Sort it - not by the count, but by enrollment, its value.\n",
    "counts_unsorted = df['Tot Enrl'].value_counts()\n",
    "counts = counts_unsorted.sort_index()\n",
    "counts"
   ]
  },
  {
   "cell_type": "markdown",
   "metadata": {},
   "source": [
    "## Plotting the data\n",
    "\n",
    "***If you use floating plots, close each plot before executing the next cell.*** "
   ]
  },
  {
   "cell_type": "code",
   "execution_count": null,
   "metadata": {},
   "outputs": [],
   "source": [
    "# by default each bar has a label, let's suppress that in this plot \n",
    "df['Tot Enrl'].plot.bar(xticks=[], title='Raw enrollment unsorted list')"
   ]
  },
  {
   "cell_type": "markdown",
   "metadata": {},
   "source": [
    "There is more than one way to skin a cat, and there are at least four good ways to draw histograms. The `df[].hist()` is nice because is works with the DataFrame, but still communicates with matplotlib rather directly."
   ]
  },
  {
   "cell_type": "code",
   "execution_count": null,
   "metadata": {},
   "outputs": [],
   "source": [
    "#df['Tot Enrl'].plot.hist(title='default histogram')\n",
    "df['Tot Enrl'].hist()"
   ]
  },
  {
   "cell_type": "code",
   "execution_count": null,
   "metadata": {},
   "outputs": [],
   "source": [
    "#df['Tot Enrl'].plot.hist(bins=51, title='51 bin histogram')\n",
    "df['Tot Enrl'].hist(bins=51)"
   ]
  },
  {
   "cell_type": "code",
   "execution_count": null,
   "metadata": {},
   "outputs": [],
   "source": [
    "#df['Tot Enrl'].plot.hist(bins=51, cumulative=True, density=1, title='cummulative distribution function')\n",
    "df['Tot Enrl'].hist(bins=51, cumulative=True, density=1)"
   ]
  },
  {
   "cell_type": "code",
   "execution_count": null,
   "metadata": {},
   "outputs": [],
   "source": [
    "counts.plot.bar(xticks=[10,20,30,40,50,60,70,80,90], title='bar graph of sorted value-counts')"
   ]
  },
  {
   "cell_type": "markdown",
   "metadata": {},
   "source": [
    "### Task\n",
    "\n",
    "For each of the five plots:\n",
    "* Add axis labels to the *x* and *y* axis.\n",
    "* Write a brief desciption: What specifically does this plot show?\n",
    "* Does the plot have a clear message or at least important highlights?"
   ]
  },
  {
   "cell_type": "code",
   "execution_count": null,
   "metadata": {},
   "outputs": [],
   "source": []
  }
 ],
 "metadata": {
  "kernelspec": {
   "display_name": "Python 3 (ipykernel)",
   "language": "python",
   "name": "python3"
  },
  "language_info": {
   "codemirror_mode": {
    "name": "ipython",
    "version": 3
   },
   "file_extension": ".py",
   "mimetype": "text/x-python",
   "name": "python",
   "nbconvert_exporter": "python",
   "pygments_lexer": "ipython3",
   "version": "3.8.12"
  }
 },
 "nbformat": 4,
 "nbformat_minor": 4
}
