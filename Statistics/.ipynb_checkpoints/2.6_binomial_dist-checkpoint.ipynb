{
 "cells": [
  {
   "cell_type": "markdown",
   "metadata": {},
   "source": [
    "# Binomial distribution\n",
    "\n",
    "Whenever we have a set of $n$ events that can either happen or not happen - some yes/no decision, we speak of binomial RV and get a binomial PMF. \n",
    "\n",
    "Provided *yes* and *no* have the same probability ($0.5$), the PMF is symmetrical, however, if the pribabilities for *yes* and *no* are different, say, $0.3$ and $0.7$, we will get a skewed PMF. \n",
    "\n",
    "Now, how is this relevant to chemistry, and the answer is spin systems and NMR. We shall consider $n$ spins, which can be up (yes) or down (no). Without an external magnetic field the probabilities are equal, with a field there is an energy difference between up and down, and the probabilities differ. \n",
    "\n",
    "The PMF leads then to entropy. Recall $S=k \\ln W$, where $W$ is the number of arrangements. There will be a very similar formula using probability instead of absolute numbers."
   ]
  },
  {
   "cell_type": "code",
   "execution_count": 1,
   "metadata": {},
   "outputs": [],
   "source": [
    "from scipy.special import comb\n",
    "import pandas as pd\n",
    "#import seaborn as sns\n",
    "#import matplotlib.pyplot as plt\n",
    "#\n",
    "# Uncomment the following lines for floating plot windows\n",
    "# import matplotlib\n",
    "# matplotlib.use('Qt5Agg')\n",
    "# %matplotlib qt5"
   ]
  },
  {
   "cell_type": "markdown",
   "metadata": {},
   "source": [
    "The function `comb`, which I imported from scientific python `scipy`, computes the *binomial coefficient* ($n$-choose-$k$) $\\frac{n!}{k!(n-k)!}$. Always use a library function, never use factorials. Too much round-off error.\n",
    "\n",
    "This box reproduces Figure 4.3.1 from Shafer and Zhang."
   ]
  },
  {
   "cell_type": "code",
   "execution_count": 2,
   "metadata": {},
   "outputs": [
    {
     "data": {
      "text/plain": [
       "<AxesSubplot:>"
      ]
     },
     "execution_count": 2,
     "metadata": {},
     "output_type": "execute_result"
    },
    {
     "data": {
      "image/png": "[encoded data removed]",
      "text/plain": [
       "<Figure size 432x288 with 1 Axes>"
      ]
     },
     "metadata": {
      "needs_background": "light"
     },
     "output_type": "display_data"
    }
   ],
   "source": [
    "n = 3\n",
    "p = 0.5\n",
    "pmf_list=[]\n",
    "for k in range(n+1):\n",
    "    pmf_list.append(comb(n,k) * p**k * (1-p)**(n-k))\n",
    "dic = {\"pmf\": pmf_list}\n",
    "df = pd.DataFrame(dic)\n",
    "df[\"pmf\"].plot.bar()"
   ]
  },
  {
   "cell_type": "markdown",
   "metadata": {},
   "source": [
    "## Tasks \n",
    "\n",
    "* Explore higher $n$, $10$, $20$, $40$. \n",
    "  * What happens to the tails?\n",
    "  * Compute the standard deviations using the formula from the book as well as pandas. What is the trend?\n",
    "  \n",
    "* Explore different $p$ for $n=10$. Say, $p=70$ and $p=90$.\n",
    "  * What happens to the shape.\n",
    "  * Compute Pearson's skewness.\n",
    "  \n",
    "* Explore by experimentation. How reliable do you need to be on a test with $40$ true/false questions, to be $90$% certain to get an A? "
   ]
  },
  {
   "cell_type": "code",
   "execution_count": null,
   "metadata": {},
   "outputs": [],
   "source": []
  }
 ],
 "metadata": {
  "kernelspec": {
   "display_name": "Python 3 (ipykernel)",
   "language": "python",
   "name": "python3"
  },
  "language_info": {
   "codemirror_mode": {
    "name": "ipython",
    "version": 3
   },
   "file_extension": ".py",
   "mimetype": "text/x-python",
   "name": "python",
   "nbconvert_exporter": "python",
   "pygments_lexer": "ipython3",
   "version": "3.8.12"
  }
 },
 "nbformat": 4,
 "nbformat_minor": 4
}
