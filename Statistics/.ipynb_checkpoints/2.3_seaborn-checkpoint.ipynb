{
 "cells": [
  {
   "cell_type": "markdown",
   "metadata": {},
   "source": [
    "# Plotting with Seaborn\n",
    "\n",
    "Most plotting in Python is done with `matplotbib`. Great library, very versatile, and a large variety of plots. Unfortunately, it takes often many lines of codes to make a plot of production quality.\n",
    "\n",
    "Apart from using `matplotlib` directly, we can use either `pandas` - and we have done that: `df['column'].hist()` - or `seaborn`.\n",
    "\n",
    "`Seaborn` is not as quite as versatile, but the most common plots types are available, and the result is already of high quality. Moreover, as `seaborn` is build on top of `matplotlib` you can use `matplotlib` commands to enhance `seaborn` plots. "
   ]
  },
  {
   "cell_type": "code",
   "execution_count": null,
   "metadata": {},
   "outputs": [],
   "source": [
    "import pandas as pd\n",
    "import seaborn as sns\n",
    "import matplotlib.pyplot as plt\n",
    "%matplotlib inline"
   ]
  },
  {
   "cell_type": "markdown",
   "metadata": {},
   "source": [
    "Public data from the annual CDC Behavioral Risk Factor Surveillance System (BRFSS) telephone survey. The full data has 200+ columns, here are only four. [BRFSS](https://www.cdc.gov/brfss/index.html)"
   ]
  },
  {
   "cell_type": "code",
   "execution_count": null,
   "metadata": {},
   "outputs": [],
   "source": [
    "df = pd.read_csv('BRFSS.csv')\n",
    "df['z-hght']=(df['hght_cm']-df['hght_cm'].mean())/df['hght_cm'].std()\n",
    "df['z-wght']=(df['wght_kg']-df['wght_kg'].mean())/df['wght_kg'].std()\n",
    "df.describe()"
   ]
  },
  {
   "cell_type": "markdown",
   "metadata": {},
   "source": [
    "A box-plot. The box represents the interquartile range. Outliers are defined by 1.5-times-IQR from the quartiles, and the whiskers extend from the minimum to the maximum of the non-outlier points.\n",
    "\n",
    "### Task\n",
    "\n",
    "Characterize the datasets from the boxplots."
   ]
  },
  {
   "cell_type": "code",
   "execution_count": null,
   "metadata": {},
   "outputs": [],
   "source": [
    "sns.boxplot(data=df[['wght_kg','hght_cm']])"
   ]
  },
  {
   "cell_type": "code",
   "execution_count": null,
   "metadata": {},
   "outputs": [],
   "source": [
    "# Seaborn makes nice histograms\n",
    "sns.histplot(data=df['wght_kg'], bins=61)"
   ]
  },
  {
   "cell_type": "markdown",
   "metadata": {},
   "source": [
    "Try changing `stat='count'` to\n",
    "* stat='frequency'\n",
    "* stat='probability'\n",
    "* stat='percent'\n",
    "* stat='density'"
   ]
  },
  {
   "cell_type": "code",
   "execution_count": null,
   "metadata": {},
   "outputs": [],
   "source": [
    "sns.histplot(data=df['hght_cm'], stat='count', bins=61, color='orange')"
   ]
  },
  {
   "cell_type": "markdown",
   "metadata": {},
   "source": [
    "You can think of a *probability density function* (PDF) as a smoothed version of the density-histogram. One idealized model you may be familar with is the normal or Gaussian distrubution or bell-curve. With `seaborn` we can create and plot a smooth curve from data: `kdeplot`, where `kde` stands for *kernal density function* an empirical PDF approximated from data."
   ]
  },
  {
   "cell_type": "code",
   "execution_count": null,
   "metadata": {},
   "outputs": [],
   "source": [
    "sns.histplot(data=df['wght_kg'], stat='density', color='royalblue', \n",
    "             label='density histogram', bins=101)\n",
    "sns.kdeplot(data=df['wght_kg'], color='black', label='PDF')\n",
    "plt.legend()"
   ]
  },
  {
   "cell_type": "markdown",
   "metadata": {},
   "source": [
    "Now we can plot the heights and weights in a single plot without too much clutter."
   ]
  },
  {
   "cell_type": "code",
   "execution_count": null,
   "metadata": {},
   "outputs": [],
   "source": [
    "sns.kdeplot(data=df['hght_cm'], color='orange', label='height')\n",
    "sns.kdeplot(data=df['wght_kg'], color='blue', label='weight')\n",
    "plt.legend()"
   ]
  },
  {
   "cell_type": "markdown",
   "metadata": {},
   "source": [
    "In this plot the data share a common $y$-axes, density, which means the PDF integrates to $1$, or $100$%. But because the $x$-axis are different, a comparison is not straightforward. This is where the $z$-scores come in. By switching to $z$scores all data share a common $x$-axes. "
   ]
  },
  {
   "cell_type": "code",
   "execution_count": null,
   "metadata": {},
   "outputs": [],
   "source": [
    "sns.kdeplot(data=df['z-hght'], color='orange', label='height')\n",
    "sns.kdeplot(data=df['z-wght'], color='blue', label='weight')\n",
    "plt.xlim(-5,5) # -5 to 5 standard deviations\n",
    "plt.xlabel('z-score')\n",
    "plt.legend()"
   ]
  },
  {
   "cell_type": "code",
   "execution_count": null,
   "metadata": {},
   "outputs": [],
   "source": []
  }
 ],
 "metadata": {
  "kernelspec": {
   "display_name": "Python 3 (ipykernel)",
   "language": "python",
   "name": "python3"
  },
  "language_info": {
   "codemirror_mode": {
    "name": "ipython",
    "version": 3
   },
   "file_extension": ".py",
   "mimetype": "text/x-python",
   "name": "python",
   "nbconvert_exporter": "python",
   "pygments_lexer": "ipython3",
   "version": "3.8.12"
  }
 },
 "nbformat": 4,
 "nbformat_minor": 4
}
