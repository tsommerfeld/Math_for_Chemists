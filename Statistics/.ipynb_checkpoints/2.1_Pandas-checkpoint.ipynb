{
 "cells": [
  {
   "cell_type": "markdown",
   "metadata": {},
   "source": [
    "# 1 Pandas and Plotting\n",
    "\n",
    "Pandas is a Python library with fairly advanced spreadsheet-like methods. This notebook explores some basic syntax.\n",
    "\n",
    "This `import` command below enables us to use `pandas`, which is is not included in standard Python, and the `as pd` part means we don't have to type `pandas`, but rather `pd` when referring to a command from the `pandas` library."
   ]
  },
  {
   "cell_type": "code",
   "execution_count": 1,
   "metadata": {},
   "outputs": [],
   "source": [
    "import pandas as pd"
   ]
  },
  {
   "cell_type": "markdown",
   "metadata": {},
   "source": [
    "Read data from a csv-file into a `pandas` data frame. (Yes there is a corresponding command for .xlsx files.) You can see: To call a `pandas` function, we use the `pd.` \"pd-dot\" notation.\n",
    "\n",
    "Each data frame works exactly like a \"tab\" in Excel or Google-sheets. In other words, a data frame is a two-dimensional row-column data structure. "
   ]
  },
  {
   "cell_type": "code",
   "execution_count": 2,
   "metadata": {},
   "outputs": [
    {
     "data": {
      "text/html": [
       "<div>\n",
       "<style scoped>\n",
       "    .dataframe tbody tr th:only-of-type {\n",
       "        vertical-align: middle;\n",
       "    }\n",
       "\n",
       "    .dataframe tbody tr th {\n",
       "        vertical-align: top;\n",
       "    }\n",
       "\n",
       "    .dataframe thead th {\n",
       "        text-align: right;\n",
       "    }\n",
       "</style>\n",
       "<table border=\"1\" class=\"dataframe\">\n",
       "  <thead>\n",
       "    <tr style=\"text-align: right;\">\n",
       "      <th></th>\n",
       "      <th>Discipline</th>\n",
       "      <th>Subject</th>\n",
       "      <th>Catalog</th>\n",
       "      <th>Level</th>\n",
       "      <th>Cap Enrl</th>\n",
       "      <th>Tot Enrl</th>\n",
       "    </tr>\n",
       "  </thead>\n",
       "  <tbody>\n",
       "    <tr>\n",
       "      <th>0</th>\n",
       "      <td>Archery</td>\n",
       "      <td>ARCH</td>\n",
       "      <td>162</td>\n",
       "      <td>100</td>\n",
       "      <td>30</td>\n",
       "      <td>13</td>\n",
       "    </tr>\n",
       "    <tr>\n",
       "      <th>1</th>\n",
       "      <td>Archery</td>\n",
       "      <td>ARCH</td>\n",
       "      <td>161</td>\n",
       "      <td>100</td>\n",
       "      <td>30</td>\n",
       "      <td>8</td>\n",
       "    </tr>\n",
       "    <tr>\n",
       "      <th>2</th>\n",
       "      <td>Archery</td>\n",
       "      <td>ARCH</td>\n",
       "      <td>162</td>\n",
       "      <td>100</td>\n",
       "      <td>30</td>\n",
       "      <td>7</td>\n",
       "    </tr>\n",
       "    <tr>\n",
       "      <th>3</th>\n",
       "      <td>Archery</td>\n",
       "      <td>ARCH</td>\n",
       "      <td>241</td>\n",
       "      <td>200</td>\n",
       "      <td>30</td>\n",
       "      <td>11</td>\n",
       "    </tr>\n",
       "    <tr>\n",
       "      <th>4</th>\n",
       "      <td>Archery</td>\n",
       "      <td>ARCH</td>\n",
       "      <td>162</td>\n",
       "      <td>100</td>\n",
       "      <td>30</td>\n",
       "      <td>74</td>\n",
       "    </tr>\n",
       "    <tr>\n",
       "      <th>...</th>\n",
       "      <td>...</td>\n",
       "      <td>...</td>\n",
       "      <td>...</td>\n",
       "      <td>...</td>\n",
       "      <td>...</td>\n",
       "      <td>...</td>\n",
       "    </tr>\n",
       "    <tr>\n",
       "      <th>2845</th>\n",
       "      <td>Karate</td>\n",
       "      <td>BLK</td>\n",
       "      <td>432</td>\n",
       "      <td>400</td>\n",
       "      <td>0</td>\n",
       "      <td>1</td>\n",
       "    </tr>\n",
       "    <tr>\n",
       "      <th>2846</th>\n",
       "      <td>Cricket</td>\n",
       "      <td>CRKT</td>\n",
       "      <td>445</td>\n",
       "      <td>400</td>\n",
       "      <td>30</td>\n",
       "      <td>0</td>\n",
       "    </tr>\n",
       "    <tr>\n",
       "      <th>2847</th>\n",
       "      <td>Wrestling</td>\n",
       "      <td>WRST</td>\n",
       "      <td>222</td>\n",
       "      <td>200</td>\n",
       "      <td>35</td>\n",
       "      <td>0</td>\n",
       "    </tr>\n",
       "    <tr>\n",
       "      <th>2848</th>\n",
       "      <td>Rugby</td>\n",
       "      <td>RGBY</td>\n",
       "      <td>391</td>\n",
       "      <td>300</td>\n",
       "      <td>30</td>\n",
       "      <td>0</td>\n",
       "    </tr>\n",
       "    <tr>\n",
       "      <th>2849</th>\n",
       "      <td>Cricket</td>\n",
       "      <td>CRKT</td>\n",
       "      <td>353</td>\n",
       "      <td>300</td>\n",
       "      <td>30</td>\n",
       "      <td>0</td>\n",
       "    </tr>\n",
       "  </tbody>\n",
       "</table>\n",
       "<p>2850 rows × 6 columns</p>\n",
       "</div>"
      ],
      "text/plain": [
       "     Discipline Subject  Catalog  Level  Cap Enrl  Tot Enrl\n",
       "0       Archery    ARCH      162    100        30        13\n",
       "1       Archery    ARCH      161    100        30         8\n",
       "2       Archery    ARCH      162    100        30         7\n",
       "3       Archery    ARCH      241    200        30        11\n",
       "4       Archery    ARCH      162    100        30        74\n",
       "...         ...     ...      ...    ...       ...       ...\n",
       "2845     Karate     BLK      432    400         0         1\n",
       "2846    Cricket    CRKT      445    400        30         0\n",
       "2847  Wrestling    WRST      222    200        35         0\n",
       "2848      Rugby    RGBY      391    300        30         0\n",
       "2849    Cricket    CRKT      353    300        30         0\n",
       "\n",
       "[2850 rows x 6 columns]"
      ]
     },
     "execution_count": 2,
     "metadata": {},
     "output_type": "execute_result"
    }
   ],
   "source": [
    "df = pd.read_csv('AU_COURSE_LIST.csv')\n",
    "df"
   ]
  },
  {
   "cell_type": "markdown",
   "metadata": {},
   "source": [
    "If you think about it, using individual \"cells\" or blocks of \"cells\" is rarely needed. Most often we need to manipulate a whole column: "
   ]
  },
  {
   "cell_type": "code",
   "execution_count": 3,
   "metadata": {},
   "outputs": [
    {
     "data": {
      "text/plain": [
       "0       ARCH\n",
       "1       ARCH\n",
       "2       ARCH\n",
       "3       ARCH\n",
       "4       ARCH\n",
       "        ... \n",
       "2845     BLK\n",
       "2846    CRKT\n",
       "2847    WRST\n",
       "2848    RGBY\n",
       "2849    CRKT\n",
       "Name: Subject, Length: 2850, dtype: object"
      ]
     },
     "execution_count": 3,
     "metadata": {},
     "output_type": "execute_result"
    }
   ],
   "source": [
    "df['Subject']"
   ]
  },
  {
   "cell_type": "markdown",
   "metadata": {},
   "source": [
    "But we can get individual \"cells\" using the '.loc': `df.loc[row,column]`. Here`column` is the column name and `row` is normally the row index, but it may be the row name - provided that exists."
   ]
  },
  {
   "cell_type": "code",
   "execution_count": 4,
   "metadata": {},
   "outputs": [
    {
     "data": {
      "text/plain": [
       "'ARCH'"
      ]
     },
     "execution_count": 4,
     "metadata": {},
     "output_type": "execute_result"
    }
   ],
   "source": [
    "df.loc[1,\"Subject\"]"
   ]
  },
  {
   "cell_type": "markdown",
   "metadata": {},
   "source": [
    "Of course, we can get a row, too."
   ]
  },
  {
   "cell_type": "code",
   "execution_count": 5,
   "metadata": {},
   "outputs": [
    {
     "data": {
      "text/plain": [
       "Discipline    Archery\n",
       "Subject          ARCH\n",
       "Catalog           161\n",
       "Level             100\n",
       "Cap Enrl           30\n",
       "Tot Enrl            8\n",
       "Name: 1, dtype: object"
      ]
     },
     "execution_count": 5,
     "metadata": {},
     "output_type": "execute_result"
    }
   ],
   "source": [
    "df.loc[1]"
   ]
  },
  {
   "cell_type": "markdown",
   "metadata": {},
   "source": [
    "Much more interesting: Defining patterns and filtering out all matching rows."
   ]
  },
  {
   "cell_type": "code",
   "execution_count": 6,
   "metadata": {},
   "outputs": [
    {
     "data": {
      "text/html": [
       "<div>\n",
       "<style scoped>\n",
       "    .dataframe tbody tr th:only-of-type {\n",
       "        vertical-align: middle;\n",
       "    }\n",
       "\n",
       "    .dataframe tbody tr th {\n",
       "        vertical-align: top;\n",
       "    }\n",
       "\n",
       "    .dataframe thead th {\n",
       "        text-align: right;\n",
       "    }\n",
       "</style>\n",
       "<table border=\"1\" class=\"dataframe\">\n",
       "  <thead>\n",
       "    <tr style=\"text-align: right;\">\n",
       "      <th></th>\n",
       "      <th>Discipline</th>\n",
       "      <th>Subject</th>\n",
       "      <th>Catalog</th>\n",
       "      <th>Level</th>\n",
       "      <th>Cap Enrl</th>\n",
       "      <th>Tot Enrl</th>\n",
       "    </tr>\n",
       "  </thead>\n",
       "  <tbody>\n",
       "    <tr>\n",
       "      <th>32</th>\n",
       "      <td>Cricket</td>\n",
       "      <td>CRKT</td>\n",
       "      <td>151</td>\n",
       "      <td>100</td>\n",
       "      <td>30</td>\n",
       "      <td>3</td>\n",
       "    </tr>\n",
       "    <tr>\n",
       "      <th>40</th>\n",
       "      <td>Cricket</td>\n",
       "      <td>CRKT</td>\n",
       "      <td>151</td>\n",
       "      <td>100</td>\n",
       "      <td>30</td>\n",
       "      <td>12</td>\n",
       "    </tr>\n",
       "    <tr>\n",
       "      <th>45</th>\n",
       "      <td>Cricket</td>\n",
       "      <td>CRKT</td>\n",
       "      <td>151</td>\n",
       "      <td>100</td>\n",
       "      <td>30</td>\n",
       "      <td>0</td>\n",
       "    </tr>\n",
       "    <tr>\n",
       "      <th>66</th>\n",
       "      <td>Cricket</td>\n",
       "      <td>CRKT</td>\n",
       "      <td>151</td>\n",
       "      <td>100</td>\n",
       "      <td>30</td>\n",
       "      <td>0</td>\n",
       "    </tr>\n",
       "    <tr>\n",
       "      <th>132</th>\n",
       "      <td>Cricket</td>\n",
       "      <td>CRKT</td>\n",
       "      <td>151</td>\n",
       "      <td>100</td>\n",
       "      <td>30</td>\n",
       "      <td>8</td>\n",
       "    </tr>\n",
       "    <tr>\n",
       "      <th>...</th>\n",
       "      <td>...</td>\n",
       "      <td>...</td>\n",
       "      <td>...</td>\n",
       "      <td>...</td>\n",
       "      <td>...</td>\n",
       "      <td>...</td>\n",
       "    </tr>\n",
       "    <tr>\n",
       "      <th>2840</th>\n",
       "      <td>Cricket</td>\n",
       "      <td>CRKT</td>\n",
       "      <td>405</td>\n",
       "      <td>400</td>\n",
       "      <td>30</td>\n",
       "      <td>0</td>\n",
       "    </tr>\n",
       "    <tr>\n",
       "      <th>2841</th>\n",
       "      <td>Cricket</td>\n",
       "      <td>CRKT</td>\n",
       "      <td>505</td>\n",
       "      <td>500</td>\n",
       "      <td>30</td>\n",
       "      <td>0</td>\n",
       "    </tr>\n",
       "    <tr>\n",
       "      <th>2842</th>\n",
       "      <td>Cricket</td>\n",
       "      <td>CRKT</td>\n",
       "      <td>381</td>\n",
       "      <td>300</td>\n",
       "      <td>1</td>\n",
       "      <td>1</td>\n",
       "    </tr>\n",
       "    <tr>\n",
       "      <th>2846</th>\n",
       "      <td>Cricket</td>\n",
       "      <td>CRKT</td>\n",
       "      <td>445</td>\n",
       "      <td>400</td>\n",
       "      <td>30</td>\n",
       "      <td>0</td>\n",
       "    </tr>\n",
       "    <tr>\n",
       "      <th>2849</th>\n",
       "      <td>Cricket</td>\n",
       "      <td>CRKT</td>\n",
       "      <td>353</td>\n",
       "      <td>300</td>\n",
       "      <td>30</td>\n",
       "      <td>0</td>\n",
       "    </tr>\n",
       "  </tbody>\n",
       "</table>\n",
       "<p>92 rows × 6 columns</p>\n",
       "</div>"
      ],
      "text/plain": [
       "     Discipline Subject  Catalog  Level  Cap Enrl  Tot Enrl\n",
       "32      Cricket    CRKT      151    100        30         3\n",
       "40      Cricket    CRKT      151    100        30        12\n",
       "45      Cricket    CRKT      151    100        30         0\n",
       "66      Cricket    CRKT      151    100        30         0\n",
       "132     Cricket    CRKT      151    100        30         8\n",
       "...         ...     ...      ...    ...       ...       ...\n",
       "2840    Cricket    CRKT      405    400        30         0\n",
       "2841    Cricket    CRKT      505    500        30         0\n",
       "2842    Cricket    CRKT      381    300         1         1\n",
       "2846    Cricket    CRKT      445    400        30         0\n",
       "2849    Cricket    CRKT      353    300        30         0\n",
       "\n",
       "[92 rows x 6 columns]"
      ]
     },
     "execution_count": 6,
     "metadata": {},
     "output_type": "execute_result"
    }
   ],
   "source": [
    "pattern=(df['Subject']=='CRKT')\n",
    "df[pattern]"
   ]
  },
  {
   "cell_type": "markdown",
   "metadata": {},
   "source": [
    "### Task\n",
    "Modify the box above to find\n",
    "* all sword-classes: 'SWRD'.\n",
    "* all classes offered in the disciplne 'Fencing'."
   ]
  },
  {
   "cell_type": "markdown",
   "metadata": {},
   "source": [
    "## Let's investigate enrollment in AU university\n",
    "\n",
    "That means we deal with the column: `df['Tot Enrl']`.\n",
    "We can plot:\n",
    "* The raw data.\n",
    "* Histograms of the raw data.\n",
    "* The cumulative distribution function of the raw data.\n",
    "* A bar graph showing how often each enrollment value appears: `value-counts`.\n",
    "\n",
    "***If you use floating plots, close each plot before executing the next cell.*** "
   ]
  },
  {
   "cell_type": "code",
   "execution_count": 12,
   "metadata": {},
   "outputs": [
    {
     "data": {
      "text/plain": [
       "<AxesSubplot:title={'center':'Raw enrollment unsorted list'}>"
      ]
     },
     "execution_count": 12,
     "metadata": {},
     "output_type": "execute_result"
    },
    {
     "data": {
      "image/png": "[encoded data removed]",
      "text/plain": [
       "<Figure size 432x288 with 1 Axes>"
      ]
     },
     "metadata": {
      "needs_background": "light"
     },
     "output_type": "display_data"
    }
   ],
   "source": [
    "# by default each bar has a label, let's suppress that in this plot \n",
    "df['Tot Enrl'].plot.bar(xticks=[], title='Raw enrollment unsorted list')"
   ]
  },
  {
   "cell_type": "markdown",
   "metadata": {},
   "source": [
    "There is more than one way to skin a cat, and there are at least four good ways to draw histograms. The `df[].hist()` is nice because is works with the DataFrame, but still communicates with matplotlib rather directly."
   ]
  },
  {
   "cell_type": "code",
   "execution_count": 13,
   "metadata": {},
   "outputs": [
    {
     "data": {
      "text/plain": [
       "<AxesSubplot:>"
      ]
     },
     "execution_count": 13,
     "metadata": {},
     "output_type": "execute_result"
    },
    {
     "data": {
      "image/png": "[encoded data removed]",
      "text/plain": [
       "<Figure size 432x288 with 1 Axes>"
      ]
     },
     "metadata": {
      "needs_background": "light"
     },
     "output_type": "display_data"
    }
   ],
   "source": [
    "#df['Tot Enrl'].plot.hist(title='default histogram')\n",
    "df['Tot Enrl'].hist()"
   ]
  },
  {
   "cell_type": "markdown",
   "metadata": {},
   "source": [
    "A plain vanilla histogram."
   ]
  },
  {
   "cell_type": "code",
   "execution_count": 18,
   "metadata": {},
   "outputs": [
    {
     "data": {
      "text/plain": [
       "<AxesSubplot:>"
      ]
     },
     "execution_count": 18,
     "metadata": {},
     "output_type": "execute_result"
    },
    {
     "data": {
      "image/png": "[encoded data removed]",
      "text/plain": [
       "<Figure size 432x288 with 1 Axes>"
      ]
     },
     "metadata": {
      "needs_background": "light"
     },
     "output_type": "display_data"
    }
   ],
   "source": [
    "df['Tot Enrl'].hist(bins=51)"
   ]
  },
  {
   "cell_type": "markdown",
   "metadata": {},
   "source": [
    "A relative frequency histogram or probablity mass function (PMF)."
   ]
  },
  {
   "cell_type": "code",
   "execution_count": 17,
   "metadata": {},
   "outputs": [
    {
     "data": {
      "text/plain": [
       "<AxesSubplot:>"
      ]
     },
     "execution_count": 17,
     "metadata": {},
     "output_type": "execute_result"
    },
    {
     "data": {
      "image/png": "[encoded data removed]",
      "text/plain": [
       "<Figure size 432x288 with 1 Axes>"
      ]
     },
     "metadata": {
      "needs_background": "light"
     },
     "output_type": "display_data"
    }
   ],
   "source": [
    "df['Tot Enrl'].hist(bins=51, density=1)"
   ]
  },
  {
   "cell_type": "markdown",
   "metadata": {},
   "source": [
    "The sum the contributions of everything below = cummulative distribution function (CDF). Study this plot carefully. Make sure you understand why it starts at $0$ and approaches $1$."
   ]
  },
  {
   "cell_type": "code",
   "execution_count": 20,
   "metadata": {},
   "outputs": [
    {
     "data": {
      "text/plain": [
       "<AxesSubplot:>"
      ]
     },
     "execution_count": 20,
     "metadata": {},
     "output_type": "execute_result"
    },
    {
     "data": {
      "image/png": "[encoded data removed]",
      "text/plain": [
       "<Figure size 432x288 with 1 Axes>"
      ]
     },
     "metadata": {
      "needs_background": "light"
     },
     "output_type": "display_data"
    }
   ],
   "source": [
    "#df['Tot Enrl'].plot.hist(bins=51, cumulative=True, density=1, title='cummulative distribution function')\n",
    "df['Tot Enrl'].hist(bins=51, cumulative=True, density=1)"
   ]
  },
  {
   "cell_type": "code",
   "execution_count": 21,
   "metadata": {},
   "outputs": [
    {
     "data": {
      "text/plain": [
       "1     212\n",
       "0     205\n",
       "20    150\n",
       "8     120\n",
       "24    104\n",
       "     ... \n",
       "73      1\n",
       "77      1\n",
       "85      1\n",
       "64      1\n",
       "51      1\n",
       "Name: Tot Enrl, Length: 81, dtype: int64"
      ]
     },
     "execution_count": 21,
     "metadata": {},
     "output_type": "execute_result"
    }
   ],
   "source": [
    "# Get the value counts:\n",
    "#\n",
    "# This counts how often certain values show up in a column \n",
    "# and sorts the values by frequency\n",
    "#\n",
    "df['Tot Enrl'].value_counts()"
   ]
  },
  {
   "cell_type": "code",
   "execution_count": null,
   "metadata": {},
   "outputs": [],
   "source": [
    "# Sorting it by value = enrollment is slightly more tricky.\n",
    "#\n",
    "counts_by_freq = df['Tot Enrl'].value_counts()\n",
    "counts_by_value = counts_by_freq.sort_index()\n",
    "counts_by_value"
   ]
  },
  {
   "cell_type": "code",
   "execution_count": 28,
   "metadata": {},
   "outputs": [
    {
     "data": {
      "text/plain": [
       "<AxesSubplot:xlabel='Enrollment', ylabel='Number of classes'>"
      ]
     },
     "execution_count": 28,
     "metadata": {},
     "output_type": "execute_result"
    },
    {
     "data": {
      "image/png": "[encoded data removed]",
      "text/plain": [
       "<Figure size 432x288 with 1 Axes>"
      ]
     },
     "metadata": {
      "needs_background": "light"
     },
     "output_type": "display_data"
    }
   ],
   "source": [
    "counts_by_value.plot.bar(xticks=[10,20,30,40,50,60,70,80,90], \n",
    "                         xlabel='Enrollment', ylabel='Number of classes')"
   ]
  },
  {
   "cell_type": "markdown",
   "metadata": {},
   "source": [
    "### Task\n",
    "\n",
    "For each of the five plots:\n",
    "* Write a brief desciption: What specifically does this plot show?\n",
    "* Does the plot have a clear message or at least important highlights?\n",
    "* Make a bar graph of the `Cap Enrl` column. What do this column and plot communicate?\n",
    "* Define histogram, PMF, and CDF with words and with formulas."
   ]
  },
  {
   "cell_type": "code",
   "execution_count": null,
   "metadata": {},
   "outputs": [],
   "source": []
  }
 ],
 "metadata": {
  "kernelspec": {
   "display_name": "Python 3 (ipykernel)",
   "language": "python",
   "name": "python3"
  },
  "language_info": {
   "codemirror_mode": {
    "name": "ipython",
    "version": 3
   },
   "file_extension": ".py",
   "mimetype": "text/x-python",
   "name": "python",
   "nbconvert_exporter": "python",
   "pygments_lexer": "ipython3",
   "version": "3.8.12"
  }
 },
 "nbformat": 4,
 "nbformat_minor": 4
}
