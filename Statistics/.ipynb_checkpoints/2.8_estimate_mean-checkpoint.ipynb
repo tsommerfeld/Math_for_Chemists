{
 "cells": [
  {
   "cell_type": "markdown",
   "metadata": {},
   "source": [
    "# Let's estimate\n",
    "\n",
    "A slightly different take on the sample mean $\\sigma_{\\bar x}$ and the central limit theorem (CTL).\n",
    "\n",
    "Say, we have a population and draw a sample of size $n$ from it. Then we try to guess - or estimate - the population mean based on our sample. For example, our sample is ($1$, $2$, $1$, $6$, $4$, $4$). What do you think the population mean $\\mu$ is?\n",
    "\n",
    "The obvious choice is the sample mean $\\bar x$, right?\n",
    "[Remark: If there are no other sources of error, $\\bar x$ is indeed the best choice. But in case of noisy data with  outliers, the median or the mean after removing outliers may be better estimates.]\n",
    "\n",
    "Then we test our guess by simulation: We draw many samples of size $n$ from a population and compare the known population mean with the many sample means we get. In fact, we get a distribution of sample means. We can make a histogram, compute the mean of our sample means, and check under which conditions the prediction of the population mean is good.\n",
    "\n",
    "That was an essential paragraph. Reread until you understand it.\n",
    "\n",
    "We will again implement our \"population\" using the \n",
    "[scipy](https://docs.scipy.org/doc/scipy-0.16.1/reference/stats.html) package. We shall use uniform and normal RVs, but you can use many others. "
   ]
  },
  {
   "cell_type": "code",
   "execution_count": 1,
   "metadata": {},
   "outputs": [],
   "source": [
    "import scipy.stats\n",
    "import numpy as np\n",
    "import pandas as pd\n",
    "import matplotlib.pyplot as plt"
   ]
  },
  {
   "cell_type": "markdown",
   "metadata": {},
   "source": [
    "### Define a population\n",
    "\n",
    "* uniform RV: `rv=scipy.stats.uniform`\n",
    "* normal RV: `rv=scipy.stats.norm`\n",
    "* Student t RV: `rv=scipy.stats.t`"
   ]
  },
  {
   "cell_type": "code",
   "execution_count": 2,
   "metadata": {},
   "outputs": [],
   "source": [
    "rv=scipy.stats.uniform"
   ]
  },
  {
   "cell_type": "markdown",
   "metadata": {},
   "source": [
    "Now that we have `rv`, we can use its 'methods'. \n",
    "\n",
    "* In the last notebook we used the PDF: `rv.pdf(x)`\n",
    "* The syntax to take a sample of size $5$ is `rv.rvs(size=5)`"
   ]
  },
  {
   "cell_type": "code",
   "execution_count": 5,
   "metadata": {},
   "outputs": [
    {
     "data": {
      "text/plain": [
       "array([0.74830054, 0.39283031, 0.77849496, 0.35289225, 0.03625108])"
      ]
     },
     "execution_count": 5,
     "metadata": {},
     "output_type": "execute_result"
    }
   ],
   "source": [
    "sample=rv.rvs(size=5)\n",
    "sample"
   ]
  },
  {
   "cell_type": "markdown",
   "metadata": {},
   "source": [
    "The sample is returned as a `numpy` array. Let's convert it into a `pandas` data-frame, and compute mean and median."
   ]
  },
  {
   "cell_type": "code",
   "execution_count": 6,
   "metadata": {},
   "outputs": [
    {
     "data": {
      "text/plain": [
       "(0.4617538264676906, 0.3928303081081822)"
      ]
     },
     "execution_count": 6,
     "metadata": {},
     "output_type": "execute_result"
    }
   ],
   "source": [
    "df=pd.DataFrame({'x':sample})\n",
    "df['x'].mean(), df['x'].median()"
   ]
  },
  {
   "cell_type": "markdown",
   "metadata": {},
   "source": [
    "## Task\n",
    "\n",
    "The two cells above draw a random sample of size $5$ from a standard uniform distribution. The numbers and their mean and median will be different every time you run the notebook anew.\n",
    "\n",
    "Is your sample mean close to the population mean, that is, close to the expected value of a standard uniform distribution?"
   ]
  },
  {
   "cell_type": "markdown",
   "metadata": {},
   "source": [
    "## Simulation\n",
    "\n",
    "Now we perform a numerical experiment. We \n",
    "* Draw $1,000$ samples of size $n$.\n",
    "* Compute the mean of each sample. \n",
    "* Plot a histogram of the sample means to see their distribution.\n",
    "* Compute the mean of the sample means, $\\mu_{\\bar x}$, to test whether it approaches the population mean $\\mu$."
   ]
  },
  {
   "cell_type": "code",
   "execution_count": 9,
   "metadata": {},
   "outputs": [
    {
     "data": {
      "image/png": "[encoded data removed]",
      "text/plain": [
       "<Figure size 432x288 with 1 Axes>"
      ]
     },
     "metadata": {
      "needs_background": "light"
     },
     "output_type": "display_data"
    },
    {
     "name": "stdout",
     "output_type": "stream",
     "text": [
      "mu_xbar = 0.4948063311359742\n"
     ]
    }
   ],
   "source": [
    "n=2\n",
    "n_samples=1000\n",
    "means=np.zeros(n_samples)  # a numpy array to collect means\n",
    "\n",
    "for i in range(n_samples):\n",
    "    sample=rv.rvs(size=n)\n",
    "    df=pd.DataFrame({'x':sample})\n",
    "    means[i] = df['x'].mean()\n",
    "\n",
    "p=plt.hist(means, bins=21)\n",
    "plt.title(f'Sample size = {n}')\n",
    "plt.show()\n",
    "print(f'mu_xbar = {means.mean()}')"
   ]
  },
  {
   "cell_type": "markdown",
   "metadata": {},
   "source": [
    "Okay, so what this plot tells us is that for $n=2$ the distribution of sample means peaks around the population mean $0.5$, but that it is pretty broad: Anything between $0$ and $1$ is in the cards.\n",
    "\n",
    "Yet, the mean of the sample means if very close to actual population mean.\n",
    "\n",
    "Now the CTL says that as I increase $n$ the distribution gets increasingly narrow and at the same time increasingly \"normal\", that is, shaped like a normal distribution.\n",
    "\n",
    "## Tasks\n",
    "\n",
    "1. Increase $n$ to 4, 8, 16, 32, 64, and 128. Observe the shape and the scale of the $x$ axis. What happens?\n",
    "\n",
    "2. Restart the notebook, and instead of a uniform RV, use a normal RV to draw random samples. What changes?"
   ]
  },
  {
   "cell_type": "code",
   "execution_count": null,
   "metadata": {},
   "outputs": [],
   "source": []
  }
 ],
 "metadata": {
  "kernelspec": {
   "display_name": "Python 3 (ipykernel)",
   "language": "python",
   "name": "python3"
  },
  "language_info": {
   "codemirror_mode": {
    "name": "ipython",
    "version": 3
   },
   "file_extension": ".py",
   "mimetype": "text/x-python",
   "name": "python",
   "nbconvert_exporter": "python",
   "pygments_lexer": "ipython3",
   "version": "3.9.7"
  }
 },
 "nbformat": 4,
 "nbformat_minor": 4
}
